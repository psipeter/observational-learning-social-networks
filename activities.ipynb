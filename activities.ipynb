{
 "cells": [
  {
   "cell_type": "code",
   "execution_count": 1,
   "id": "30579971-c13d-4041-a31b-de65875f71f1",
   "metadata": {},
   "outputs": [],
   "source": [
    "import numpy as np\n",
    "import scipy\n",
    "import matplotlib.pyplot as plt\n",
    "import seaborn as sns\n",
    "import pandas as pd\n",
    "import time\n",
    "\n",
    "palette = sns.color_palette('tab10')\n",
    "sns.set_palette(palette)\n",
    "sns.set(context='paper', style='white', font=\"cmr10\", font_scale=1.2)\n",
    "plt.rcParams['axes.formatter.use_mathtext'] = True"
   ]
  },
  {
   "cell_type": "code",
   "execution_count": null,
   "id": "33605789-a74b-436d-9bed-2b4c8f117a39",
   "metadata": {},
   "outputs": [],
   "source": [
    "pe_bins = np.arange(0, 2, 0.2)\n",
    "rd_bins = np.arange(0, 1, 0.1)\n",
    "fig, axes = plt.subplots(nrows=2, ncols=3, figsize=(10, 6))\n",
    "sns.regplot(data=act_data.query(\"stage==1\").query(\"aPE<1.5\"), x='aPE', y='error activity', ax=axes[0][0], color=palette[0], x_bins=pe_bins, scatter_kws={'s': 5}, line_kws=dict(color=palette[1]))\n",
    "sns.regplot(data=act_data.query(\"stage==2\").query(\"aPE<1.5\"), x='aPE', y='error activity', ax=axes[0][1], color=palette[0], x_bins=pe_bins, scatter_kws={'s': 5}, line_kws=dict(color=palette[1]))\n",
    "sns.regplot(data=act_data.query(\"stage==3\").query(\"aPE<1.5\"), x='aPE', y='error activity', ax=axes[0][2], color=palette[0], x_bins=pe_bins, scatter_kws={'s': 5}, line_kws=dict(color=palette[1]))\n",
    "sns.regplot(data=act_data.query(\"stage==1\"), x='RD', y='weight activity', ax=axes[1][0], color=palette[0], x_bins=rd_bins, scatter_kws={'s': 5}, line_kws=dict(color=palette[1]))\n",
    "sns.regplot(data=act_data.query(\"stage==2\"), x='RD', y='weight activity', ax=axes[1][1], color=palette[0], x_bins=rd_bins, scatter_kws={'s': 5}, line_kws=dict(color=palette[1]))\n",
    "sns.regplot(data=act_data.query(\"stage==3\"), x='RD', y='weight activity', ax=axes[1][2], color=palette[0], x_bins=rd_bins, scatter_kws={'s': 5}, line_kws=dict(color=palette[1]))\n",
    "axes[0][0].set(title='Stage 1', xlabel='abs(PE)', ylabel='Mean Activity of\\nError Neurons')\n",
    "axes[0][1].set(title='Stage 2', xlabel='abs(PE)', ylabel=None)\n",
    "axes[0][2].set(title='Stage 3', xlabel='abs(PE)', ylabel=None)\n",
    "axes[1][0].set(xlabel='RD', ylabel='Mean Activity of\\nWeight Neurons')\n",
    "axes[1][1].set(xlabel='RD', ylabel=None)\n",
    "axes[1][2].set(xlabel='RD', ylabel=None)\n",
    "plt.tight_layout()\n",
    "plt.show()\n",
    "fig.savefig(\"plots/activity_trends.jpg\", dpi=600)"
   ]
  },
  {
   "cell_type": "code",
   "execution_count": null,
   "id": "6c80078e-9b87-4ba3-9b5b-dff002835703",
   "metadata": {},
   "outputs": [],
   "source": []
  }
 ],
 "metadata": {
  "kernelspec": {
   "display_name": "Python 3 (ipykernel)",
   "language": "python",
   "name": "python3"
  },
  "language_info": {
   "codemirror_mode": {
    "name": "ipython",
    "version": 3
   },
   "file_extension": ".py",
   "mimetype": "text/x-python",
   "name": "python",
   "nbconvert_exporter": "python",
   "pygments_lexer": "ipython3",
   "version": "3.11.10"
  }
 },
 "nbformat": 4,
 "nbformat_minor": 5
}
