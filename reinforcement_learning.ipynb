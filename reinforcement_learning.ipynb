{
 "cells": [
  {
   "cell_type": "markdown",
   "id": "05a14fed-d9f0-44a4-a19a-ed33af101cc0",
   "metadata": {},
   "source": [
    "## Observational social learning task with a reinforcement-learning-based network"
   ]
  },
  {
   "cell_type": "code",
   "execution_count": 1,
   "id": "1c056c83-186d-4ad5-8559-a0933c93d488",
   "metadata": {},
   "outputs": [],
   "source": [
    "import numpy as np\n",
    "import matplotlib.pyplot as plt\n",
    "import seaborn as sns\n",
    "import nengo"
   ]
  },
  {
   "cell_type": "markdown",
   "id": "83719c34-932c-4cc7-8262-55f6224fdec7",
   "metadata": {},
   "source": [
    "### Task is defined by the Environment node"
   ]
  },
  {
   "cell_type": "code",
   "execution_count": 2,
   "id": "287c73d1-7167-4944-8ba7-e3e6744d7559",
   "metadata": {},
   "outputs": [],
   "source": [
    "class Environment():\n",
    "    def __init__(self, prob_A, time_sample=1, dt=0.001, seed_env=4, dim_context=3):\n",
    "        self.rng = np.random.RandomState(seed=seed_env)\n",
    "        self.prob_A = prob_A\n",
    "        self.prob_B = 1 - prob_A\n",
    "        self.time_sample = time_sample\n",
    "        self.dt = dt\n",
    "        self.obs = 0\n",
    "        self.weight = 0\n",
    "        self.dim_context = dim_context\n",
    "        self.context = self.rng.rand(self.dim_context)\n",
    "        self.context = self.context / np.linalg.norm(self.context)\n",
    "        self.alpha = 0.6  # todo: fit\n",
    "        self.beta = 0.2  # todo: fit\n",
    "        self.RD = [0.2, 0.6, 0.3]  # todo: read these values in from external data file\n",
    "    def sample(self, t):\n",
    "        if t % self.time_sample < self.dt:\n",
    "            self.obs = 1 if self.rng.uniform(0,1) < self.prob_A else -1\n",
    "            self.n_sample = int(t / self.time_sample) + 1\n",
    "            if self.n_sample <= 1:\n",
    "                self.weight = 1\n",
    "            elif self.n_sample == 2:\n",
    "                self.weight = self.alpha\n",
    "            elif self.n_sample == 3:\n",
    "                self.weight = self.beta * self.RD[0]\n",
    "            elif self.n_sample == 4:\n",
    "                self.weight = self.beta * self.RD[1]\n",
    "            elif self.n_sample == 5:\n",
    "                self.weight = self.beta * self.RD[2]\n",
    "        return [self.obs, self.weight]"
   ]
  },
  {
   "cell_type": "markdown",
   "id": "487ab6e5-ff5e-4ddb-af5c-9da66eb14c55",
   "metadata": {},
   "source": [
    "### Define the neural network"
   ]
  },
  {
   "cell_type": "code",
   "execution_count": 3,
   "id": "d8400e77-bc3f-4588-9d89-e949fdb03011",
   "metadata": {},
   "outputs": [],
   "source": [
    "def build_network(env, n_neurons=500, seed_net=0, syn_feedback=0.1, learning_rate=1e-4):\n",
    "    net = nengo.Network(seed=seed_net)\n",
    "    func_obs = lambda t: env.sample(t)[0]\n",
    "    func_weight = lambda t: env.sample(t)[1]\n",
    "    func_context = lambda t: env.context\n",
    "    func_error = lambda x: x[2] * (x[0] - x[1])\n",
    "    # func_error = lambda x: x[2] * x[1] * -1\n",
    "    func_choice = lambda x: -1 if x[0] < 0 else 1\n",
    "    func_confidence = lambda x: np.abs(x[0])\n",
    "\n",
    "    with net:\n",
    "        # external inputs\n",
    "        net.input_obs = nengo.Node(func_obs)\n",
    "        net.input_weight = nengo.Node(func_weight)\n",
    "        net.input_context = nengo.Node(func_context)\n",
    "        # ensembles\n",
    "        net.obs = nengo.Ensemble(n_neurons, 1)\n",
    "        net.weight = nengo.Ensemble(n_neurons, 1)\n",
    "        net.context = nengo.Ensemble(n_neurons*env.dim_context, env.dim_context)\n",
    "        net.prediction = nengo.Ensemble(n_neurons, 1)\n",
    "        net.combined = nengo.Ensemble(n_neurons*3, 3, radius=3)\n",
    "        net.error = nengo.Ensemble(n_neurons, 1)\n",
    "        net.decision = nengo.Ensemble(2*n_neurons, 2, radius=1.4)\n",
    "        # connections\n",
    "        nengo.Connection(net.input_obs, net.obs)\n",
    "        nengo.Connection(net.input_weight, net.weight)\n",
    "        nengo.Connection(net.input_context, net.context)\n",
    "        net.conn = nengo.Connection(net.context, net.prediction,\n",
    "                                    learning_rule_type=nengo.PES(learning_rate=learning_rate), function=lambda x: 0)\n",
    "        nengo.Connection(net.prediction, net.combined[0])\n",
    "        nengo.Connection(net.obs, net.combined[1])\n",
    "        nengo.Connection(net.weight, net.combined[2])\n",
    "        nengo.Connection(net.combined, net.error, function=func_error)\n",
    "        nengo.Connection(net.error, net.conn.learning_rule)\n",
    "        nengo.Connection(net.prediction, net.decision[0], function=func_choice)\n",
    "        nengo.Connection(net.prediction, net.decision[1], function=func_confidence)\n",
    "        # probes\n",
    "        net.probe_input = nengo.Probe(net.input_obs, synapse=0)\n",
    "        net.probe_obs = nengo.Probe(net.obs, synapse=0.01)\n",
    "        net.probe_weight = nengo.Probe(net.weight, synapse=0.01)\n",
    "        net.probe_prediction = nengo.Probe(net.prediction, synapse=0.01)\n",
    "        net.probe_error = nengo.Probe(net.error, synapse=0.01)\n",
    "        net.probe_decision = nengo.Probe(net.decision, synapse=0.01)\n",
    "    return net"
   ]
  },
  {
   "cell_type": "markdown",
   "id": "c9b54b38-d3f2-4c0f-abc0-ccbd3cfa2126",
   "metadata": {},
   "source": [
    "### Simulate the network for one observation"
   ]
  },
  {
   "cell_type": "code",
   "execution_count": 4,
   "id": "e9051042-62be-4d3d-ba45-baabbcf841d8",
   "metadata": {},
   "outputs": [],
   "source": [
    "def simulate(time_sim, seed_sim=0):\n",
    "    env = Environment(prob_A=0.8)\n",
    "    net = build_network(env)\n",
    "    sim = nengo.Simulator(net, seed=seed_sim)\n",
    "    with sim:\n",
    "        sim.run(time_sim)\n",
    "    return net, sim"
   ]
  },
  {
   "cell_type": "code",
   "execution_count": 5,
   "id": "01cb8b18-bab4-4e89-a5ad-105d58e1c9e2",
   "metadata": {},
   "outputs": [
    {
     "data": {
      "application/vdom.v1+json": {
       "attributes": {},
       "tagName": "div"
      },
      "text/html": [
       "\n",
       "                <script>\n",
       "                    if (Jupyter.version.split(\".\")[0] < 5) {\n",
       "                        var pb = document.getElementById(\"802737f6-599b-448c-833e-31011eb24bb1\");\n",
       "                        var text = document.createTextNode(\n",
       "                            \"HTML progress bar requires Jupyter Notebook >= \" +\n",
       "                            \"5.0 or Jupyter Lab. Alternatively, you can use \" +\n",
       "                            \"TerminalProgressBar().\");\n",
       "                        pb.parentNode.insertBefore(text, pb);\n",
       "                    }\n",
       "                </script>\n",
       "                <div id=\"802737f6-599b-448c-833e-31011eb24bb1\" style=\"\n",
       "                    width: 100%;\n",
       "                    border: 1px solid #cfcfcf;\n",
       "                    border-radius: 4px;\n",
       "                    text-align: center;\n",
       "                    position: relative;\">\n",
       "                  <div class=\"pb-text\" style=\"\n",
       "                      position: absolute;\n",
       "                      width: 100%;\">\n",
       "                    0%\n",
       "                  </div>\n",
       "                  <div class=\"pb-fill\" style=\"\n",
       "                      background-color: #bdd2e6;\n",
       "                      width: 0%;\">\n",
       "                    <style type=\"text/css\" scoped=\"scoped\">\n",
       "                        @keyframes pb-fill-anim {\n",
       "                            0% { background-position: 0 0; }\n",
       "                            100% { background-position: 100px 0; }\n",
       "                        }\n",
       "                    </style>\n",
       "                    &nbsp;\n",
       "                  </div>\n",
       "                </div>"
      ],
      "text/plain": [
       "HtmlProgressBar cannot be displayed. Please use the TerminalProgressBar. It can be enabled with `nengo.rc['progress']['progress_bar'] = 'nengo.utils.progress.TerminalProgressBar'`."
      ]
     },
     "metadata": {},
     "output_type": "display_data"
    },
    {
     "data": {
      "application/vdom.v1+json": {
       "attributes": {
        "id": "d6c74289-56f7-43f5-a4c3-295a14c31069",
        "style": {
         "border": "1px solid #cfcfcf",
         "borderRadius": "4px",
         "boxSizing": "border-box",
         "position": "relative",
         "textAlign": "center",
         "width": "100%"
        }
       },
       "children": [
        {
         "attributes": {
          "class": "pb-text",
          "style": {
           "position": "absolute",
           "width": "100%"
          }
         },
         "children": [
          "Build finished in 0:00:02."
         ],
         "tagName": "div"
        },
        {
         "attributes": {
          "class": "pb-fill",
          "style": {
           "animation": "none",
           "backgroundColor": "#bdd2e6",
           "backgroundImage": "none",
           "backgroundSize": "100px 100%",
           "width": "100%"
          }
         },
         "children": [
          {
           "attributes": {
            "scoped": "scoped",
            "type": "text/css"
           },
           "children": [
            "\n                        @keyframes pb-fill-anim {\n                            0% { background-position: 0 0; }\n                            100% { background-position: 100px 0; }\n                        }}"
           ],
           "tagName": "style"
          },
          " "
         ],
         "tagName": "div"
        }
       ],
       "tagName": "div"
      },
      "text/html": [
       "<script>\n",
       "              (function () {\n",
       "                  var root = document.getElementById('802737f6-599b-448c-833e-31011eb24bb1');\n",
       "                  var text = root.getElementsByClassName('pb-text')[0];\n",
       "                  var fill = root.getElementsByClassName('pb-fill')[0];\n",
       "\n",
       "                  text.innerHTML = 'Build finished in 0:00:02.';\n",
       "                  \n",
       "            fill.style.width = '100%';\n",
       "            fill.style.animation = 'pb-fill-anim 2s linear infinite';\n",
       "            fill.style.backgroundSize = '100px 100%';\n",
       "            fill.style.backgroundImage = 'repeating-linear-gradient(' +\n",
       "                '90deg, #bdd2e6, #edf2f8 40%, #bdd2e6 80%, #bdd2e6)';\n",
       "        \n",
       "                  \n",
       "                fill.style.animation = 'none';\n",
       "                fill.style.backgroundImage = 'none';\n",
       "            \n",
       "              })();\n",
       "        </script>"
      ]
     },
     "metadata": {},
     "output_type": "display_data"
    },
    {
     "data": {
      "application/vdom.v1+json": {
       "attributes": {},
       "tagName": "div"
      },
      "text/html": [
       "\n",
       "                <script>\n",
       "                    if (Jupyter.version.split(\".\")[0] < 5) {\n",
       "                        var pb = document.getElementById(\"350ec7aa-0519-4cdd-af44-03ea75ab0159\");\n",
       "                        var text = document.createTextNode(\n",
       "                            \"HTML progress bar requires Jupyter Notebook >= \" +\n",
       "                            \"5.0 or Jupyter Lab. Alternatively, you can use \" +\n",
       "                            \"TerminalProgressBar().\");\n",
       "                        pb.parentNode.insertBefore(text, pb);\n",
       "                    }\n",
       "                </script>\n",
       "                <div id=\"350ec7aa-0519-4cdd-af44-03ea75ab0159\" style=\"\n",
       "                    width: 100%;\n",
       "                    border: 1px solid #cfcfcf;\n",
       "                    border-radius: 4px;\n",
       "                    text-align: center;\n",
       "                    position: relative;\">\n",
       "                  <div class=\"pb-text\" style=\"\n",
       "                      position: absolute;\n",
       "                      width: 100%;\">\n",
       "                    0%\n",
       "                  </div>\n",
       "                  <div class=\"pb-fill\" style=\"\n",
       "                      background-color: #bdd2e6;\n",
       "                      width: 0%;\">\n",
       "                    <style type=\"text/css\" scoped=\"scoped\">\n",
       "                        @keyframes pb-fill-anim {\n",
       "                            0% { background-position: 0 0; }\n",
       "                            100% { background-position: 100px 0; }\n",
       "                        }\n",
       "                    </style>\n",
       "                    &nbsp;\n",
       "                  </div>\n",
       "                </div>"
      ],
      "text/plain": [
       "HtmlProgressBar cannot be displayed. Please use the TerminalProgressBar. It can be enabled with `nengo.rc['progress']['progress_bar'] = 'nengo.utils.progress.TerminalProgressBar'`."
      ]
     },
     "metadata": {},
     "output_type": "display_data"
    },
    {
     "data": {
      "application/vdom.v1+json": {
       "attributes": {
        "id": "71820db0-d56f-4106-950d-95d347b8031e",
        "style": {
         "border": "1px solid #cfcfcf",
         "borderRadius": "4px",
         "boxSizing": "border-box",
         "position": "relative",
         "textAlign": "center",
         "width": "100%"
        }
       },
       "children": [
        {
         "attributes": {
          "class": "pb-text",
          "style": {
           "position": "absolute",
           "width": "100%"
          }
         },
         "children": [
          "Simulation finished in 0:00:07."
         ],
         "tagName": "div"
        },
        {
         "attributes": {
          "class": "pb-fill",
          "style": {
           "animation": "none",
           "backgroundColor": "#bdd2e6",
           "backgroundImage": "none",
           "transition": "width 0.1s linear",
           "width": "100%"
          }
         },
         "children": [
          {
           "attributes": {
            "scoped": "scoped",
            "type": "text/css"
           },
           "children": [
            "\n                        @keyframes pb-fill-anim {\n                            0% { background-position: 0 0; }\n                            100% { background-position: 100px 0; }\n                        }}"
           ],
           "tagName": "style"
          },
          " "
         ],
         "tagName": "div"
        }
       ],
       "tagName": "div"
      },
      "text/html": [
       "<script>\n",
       "              (function () {\n",
       "                  var root = document.getElementById('350ec7aa-0519-4cdd-af44-03ea75ab0159');\n",
       "                  var text = root.getElementsByClassName('pb-text')[0];\n",
       "                  var fill = root.getElementsByClassName('pb-fill')[0];\n",
       "\n",
       "                  text.innerHTML = 'Simulation finished in 0:00:07.';\n",
       "                  \n",
       "            if (100.0 > 0.) {\n",
       "                fill.style.transition = 'width 0.1s linear';\n",
       "            } else {\n",
       "                fill.style.transition = 'none';\n",
       "            }\n",
       "\n",
       "            fill.style.width = '100.0%';\n",
       "            fill.style.animation = 'none';\n",
       "            fill.style.backgroundImage = 'none'\n",
       "        \n",
       "                  \n",
       "                fill.style.animation = 'none';\n",
       "                fill.style.backgroundImage = 'none';\n",
       "            \n",
       "              })();\n",
       "        </script>"
      ]
     },
     "metadata": {},
     "output_type": "display_data"
    }
   ],
   "source": [
    "net, sim = simulate(time_sim=6)"
   ]
  },
  {
   "cell_type": "code",
   "execution_count": 7,
   "id": "c6d16061-d364-4d01-9b56-400a6d9e0526",
   "metadata": {},
   "outputs": [
    {
     "data": {
      "image/png": "[encoded data removed]",
      "text/plain": [
       "<Figure size 800x400 with 2 Axes>"
      ]
     },
     "metadata": {},
     "output_type": "display_data"
    }
   ],
   "source": [
    "times = sim.trange().flatten()\n",
    "input_obs = sim.data[net.probe_input].flatten()\n",
    "obs = sim.data[net.probe_obs].flatten()\n",
    "weights = sim.data[net.probe_weight].flatten()\n",
    "pred = sim.data[net.probe_prediction].flatten()\n",
    "err = sim.data[net.probe_error].flatten()\n",
    "decision = sim.data[net.probe_decision][:,0].flatten()\n",
    "confidence = sim.data[net.probe_decision][:,1].flatten()\n",
    "\n",
    "fig, axes = plt.subplots(nrows=2, ncols=1, figsize=(8,4), sharex=True)\n",
    "# sns.lineplot(x=times, y=input_obs, ax=ax, label='true observations', color='k')\n",
    "sns.lineplot(x=times, y=obs, ax=axes[0], label='observations')\n",
    "sns.lineplot(x=times, y=weights, ax=axes[0], label='weights')\n",
    "sns.lineplot(x=times, y=pred, ax=axes[1], label='prediction')\n",
    "sns.lineplot(x=times, y=err, ax=axes[1], label='error')\n",
    "sns.lineplot(x=times, y=decision, ax=axes[1], label='decision')\n",
    "# sns.lineplot(x=times, y=confidence, ax=ax, label='confidence')\n",
    "axes[1].set(xlabel='time', ylabel='value')\n",
    "# axes[0].legend(bbox_to_anchor=(1.05, 1), loc='upper left')\n",
    "# axes[1].legend(bbox_to_anchor=(1.05, 1), loc='upper left')\n",
    "plt.tight_layout()"
   ]
  },
  {
   "cell_type": "code",
   "execution_count": null,
   "id": "fe7a9b7f-9e41-4c5d-97e7-0969a5bd61fa",
   "metadata": {},
   "outputs": [],
   "source": []
  },
  {
   "cell_type": "code",
   "execution_count": null,
   "id": "d00a92a9-8d30-4e41-8729-09c18023a57b",
   "metadata": {},
   "outputs": [],
   "source": []
  }
 ],
 "metadata": {
  "kernelspec": {
   "display_name": "Python 3 (ipykernel)",
   "language": "python",
   "name": "python3"
  },
  "language_info": {
   "codemirror_mode": {
    "name": "ipython",
    "version": 3
   },
   "file_extension": ".py",
   "mimetype": "text/x-python",
   "name": "python",
   "nbconvert_exporter": "python",
   "pygments_lexer": "ipython3",
   "version": "3.11.10"
  }
 },
 "nbformat": 4,
 "nbformat_minor": 5
}
