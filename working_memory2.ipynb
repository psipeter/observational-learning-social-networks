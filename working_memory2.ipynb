{
 "cells": [
  {
   "cell_type": "code",
   "execution_count": 1,
   "id": "a11a3128-0421-40af-8c49-4c645df6d13f",
   "metadata": {},
   "outputs": [],
   "source": [
    "import numpy as np\n",
    "import matplotlib.pyplot as plt\n",
    "import seaborn as sns\n",
    "import nengo\n",
    "import scipy\n",
    "from WM2 import *\n",
    "palette = sns.color_palette('tab10')\n",
    "sns.set_palette(palette)\n",
    "sns.set(context='paper', style='white', font=\"cmr10\", font_scale=1.2)\n",
    "plt.rcParams['axes.formatter.use_mathtext'] = True"
   ]
  },
  {
   "cell_type": "markdown",
   "id": "cc40b633-4b2c-44fe-b10b-605856341438",
   "metadata": {},
   "source": [
    "## Count up and maintain result in WM"
   ]
  },
  {
   "cell_type": "code",
   "execution_count": 88,
   "id": "da446832-667b-407e-9938-da809a751e06",
   "metadata": {},
   "outputs": [
    {
     "data": {
      "application/vdom.v1+json": {
       "attributes": {},
       "tagName": "div"
      },
      "text/html": [
       "\n",
       "                <script>\n",
       "                    if (Jupyter.version.split(\".\")[0] < 5) {\n",
       "                        var pb = document.getElementById(\"4c020f89-115e-4df2-ba9f-857019b04999\");\n",
       "                        var text = document.createTextNode(\n",
       "                            \"HTML progress bar requires Jupyter Notebook >= \" +\n",
       "                            \"5.0 or Jupyter Lab. Alternatively, you can use \" +\n",
       "                            \"TerminalProgressBar().\");\n",
       "                        pb.parentNode.insertBefore(text, pb);\n",
       "                    }\n",
       "                </script>\n",
       "                <div id=\"4c020f89-115e-4df2-ba9f-857019b04999\" style=\"\n",
       "                    width: 100%;\n",
       "                    border: 1px solid #cfcfcf;\n",
       "                    border-radius: 4px;\n",
       "                    text-align: center;\n",
       "                    position: relative;\">\n",
       "                  <div class=\"pb-text\" style=\"\n",
       "                      position: absolute;\n",
       "                      width: 100%;\">\n",
       "                    0%\n",
       "                  </div>\n",
       "                  <div class=\"pb-fill\" style=\"\n",
       "                      background-color: #bdd2e6;\n",
       "                      width: 0%;\">\n",
       "                    <style type=\"text/css\" scoped=\"scoped\">\n",
       "                        @keyframes pb-fill-anim {\n",
       "                            0% { background-position: 0 0; }\n",
       "                            100% { background-position: 100px 0; }\n",
       "                        }\n",
       "                    </style>\n",
       "                    &nbsp;\n",
       "                  </div>\n",
       "                </div>"
      ],
      "text/plain": [
       "HtmlProgressBar cannot be displayed. Please use the TerminalProgressBar. It can be enabled with `nengo.rc['progress']['progress_bar'] = 'nengo.utils.progress.TerminalProgressBar'`."
      ]
     },
     "metadata": {},
     "output_type": "display_data"
    },
    {
     "data": {
      "application/vdom.v1+json": {
       "attributes": {
        "id": "d5e6d381-c808-4661-aa86-71933e7307c6",
        "style": {
         "border": "1px solid #cfcfcf",
         "borderRadius": "4px",
         "boxSizing": "border-box",
         "position": "relative",
         "textAlign": "center",
         "width": "100%"
        }
       },
       "children": [
        {
         "attributes": {
          "class": "pb-text",
          "style": {
           "position": "absolute",
           "width": "100%"
          }
         },
         "children": [
          "Build finished in 0:00:01."
         ],
         "tagName": "div"
        },
        {
         "attributes": {
          "class": "pb-fill",
          "style": {
           "animation": "none",
           "backgroundColor": "#bdd2e6",
           "backgroundImage": "none",
           "backgroundSize": "100px 100%",
           "width": "100%"
          }
         },
         "children": [
          {
           "attributes": {
            "scoped": "scoped",
            "type": "text/css"
           },
           "children": [
            "\n                        @keyframes pb-fill-anim {\n                            0% { background-position: 0 0; }\n                            100% { background-position: 100px 0; }\n                        }}"
           ],
           "tagName": "style"
          },
          " "
         ],
         "tagName": "div"
        }
       ],
       "tagName": "div"
      },
      "text/html": [
       "<script>\n",
       "              (function () {\n",
       "                  var root = document.getElementById('4c020f89-115e-4df2-ba9f-857019b04999');\n",
       "                  var text = root.getElementsByClassName('pb-text')[0];\n",
       "                  var fill = root.getElementsByClassName('pb-fill')[0];\n",
       "\n",
       "                  text.innerHTML = 'Build finished in 0:00:01.';\n",
       "                  \n",
       "            fill.style.width = '100%';\n",
       "            fill.style.animation = 'pb-fill-anim 2s linear infinite';\n",
       "            fill.style.backgroundSize = '100px 100%';\n",
       "            fill.style.backgroundImage = 'repeating-linear-gradient(' +\n",
       "                '90deg, #bdd2e6, #edf2f8 40%, #bdd2e6 80%, #bdd2e6)';\n",
       "        \n",
       "                  \n",
       "                fill.style.animation = 'none';\n",
       "                fill.style.backgroundImage = 'none';\n",
       "            \n",
       "              })();\n",
       "        </script>"
      ]
     },
     "metadata": {},
     "output_type": "display_data"
    },
    {
     "data": {
      "application/vdom.v1+json": {
       "attributes": {},
       "tagName": "div"
      },
      "text/html": [
       "\n",
       "                <script>\n",
       "                    if (Jupyter.version.split(\".\")[0] < 5) {\n",
       "                        var pb = document.getElementById(\"45ce3075-ccb2-482d-9c6d-64708a0a590c\");\n",
       "                        var text = document.createTextNode(\n",
       "                            \"HTML progress bar requires Jupyter Notebook >= \" +\n",
       "                            \"5.0 or Jupyter Lab. Alternatively, you can use \" +\n",
       "                            \"TerminalProgressBar().\");\n",
       "                        pb.parentNode.insertBefore(text, pb);\n",
       "                    }\n",
       "                </script>\n",
       "                <div id=\"45ce3075-ccb2-482d-9c6d-64708a0a590c\" style=\"\n",
       "                    width: 100%;\n",
       "                    border: 1px solid #cfcfcf;\n",
       "                    border-radius: 4px;\n",
       "                    text-align: center;\n",
       "                    position: relative;\">\n",
       "                  <div class=\"pb-text\" style=\"\n",
       "                      position: absolute;\n",
       "                      width: 100%;\">\n",
       "                    0%\n",
       "                  </div>\n",
       "                  <div class=\"pb-fill\" style=\"\n",
       "                      background-color: #bdd2e6;\n",
       "                      width: 0%;\">\n",
       "                    <style type=\"text/css\" scoped=\"scoped\">\n",
       "                        @keyframes pb-fill-anim {\n",
       "                            0% { background-position: 0 0; }\n",
       "                            100% { background-position: 100px 0; }\n",
       "                        }\n",
       "                    </style>\n",
       "                    &nbsp;\n",
       "                  </div>\n",
       "                </div>"
      ],
      "text/plain": [
       "HtmlProgressBar cannot be displayed. Please use the TerminalProgressBar. It can be enabled with `nengo.rc['progress']['progress_bar'] = 'nengo.utils.progress.TerminalProgressBar'`."
      ]
     },
     "metadata": {},
     "output_type": "display_data"
    },
    {
     "data": {
      "application/vdom.v1+json": {
       "attributes": {
        "id": "7e09c633-5426-4a14-b983-7cd989260a52",
        "style": {
         "border": "1px solid #cfcfcf",
         "borderRadius": "4px",
         "boxSizing": "border-box",
         "position": "relative",
         "textAlign": "center",
         "width": "100%"
        }
       },
       "children": [
        {
         "attributes": {
          "class": "pb-text",
          "style": {
           "position": "absolute",
           "width": "100%"
          }
         },
         "children": [
          "Simulation finished in 0:00:03."
         ],
         "tagName": "div"
        },
        {
         "attributes": {
          "class": "pb-fill",
          "style": {
           "animation": "none",
           "backgroundColor": "#bdd2e6",
           "backgroundImage": "none",
           "transition": "width 0.1s linear",
           "width": "100%"
          }
         },
         "children": [
          {
           "attributes": {
            "scoped": "scoped",
            "type": "text/css"
           },
           "children": [
            "\n                        @keyframes pb-fill-anim {\n                            0% { background-position: 0 0; }\n                            100% { background-position: 100px 0; }\n                        }}"
           ],
           "tagName": "style"
          },
          " "
         ],
         "tagName": "div"
        }
       ],
       "tagName": "div"
      },
      "text/html": [
       "<script>\n",
       "              (function () {\n",
       "                  var root = document.getElementById('45ce3075-ccb2-482d-9c6d-64708a0a590c');\n",
       "                  var text = root.getElementsByClassName('pb-text')[0];\n",
       "                  var fill = root.getElementsByClassName('pb-fill')[0];\n",
       "\n",
       "                  text.innerHTML = 'Simulation finished in 0:00:03.';\n",
       "                  \n",
       "            if (100.0 > 0.) {\n",
       "                fill.style.transition = 'width 0.1s linear';\n",
       "            } else {\n",
       "                fill.style.transition = 'none';\n",
       "            }\n",
       "\n",
       "            fill.style.width = '100.0%';\n",
       "            fill.style.animation = 'none';\n",
       "            fill.style.backgroundImage = 'none'\n",
       "        \n",
       "                  \n",
       "                fill.style.animation = 'none';\n",
       "                fill.style.backgroundImage = 'none';\n",
       "            \n",
       "              })();\n",
       "        </script>"
      ]
     },
     "metadata": {},
     "output_type": "display_data"
    }
   ],
   "source": [
    "stimuli = np.random.RandomState(seed=0).randint(0,2,size=21)\n",
    "stimuli = 2*stimuli - 1\n",
    "func_stim = lambda t: stimuli[int(t)] if t%1<0.5 else 0\n",
    "\n",
    "network = nengo.Network(seed=0)\n",
    "with network:\n",
    "    node_stim = nengo.Node(func_stim)\n",
    "    \n",
    "    ens_stim = nengo.Ensemble(1000, 1)\n",
    "    ens_delta = nengo.Ensemble(1000, 1, encoders=nengo.dists.Choice([[1]]), intercepts=nengo.dists.Uniform(0,1))\n",
    "    ens_memory = nengo.Ensemble(2000, 1)\n",
    "    ens_number = nengo.Ensemble(2000, 1, radius=20)\n",
    "    \n",
    "    conn_stim = nengo.Connection(node_stim, ens_stim)\n",
    "    conn_delta1 = nengo.Connection(ens_stim, ens_delta, synapse=0.01, function=lambda x: 2*np.abs(x))\n",
    "    conn_delta2 = nengo.Connection(ens_stim, ens_delta, synapse=0.1, function=lambda x: -2*np.abs(x))\n",
    "    conn_memff = nengo.Connection(ens_delta, ens_memory, synapse=0.2, transform=0.05)\n",
    "    conn_memfb = nengo.Connection(ens_memory, ens_memory, synapse=0.2)\n",
    "    conn_num = nengo.Connection(ens_memory, ens_number, transform=25, synapse=0.1)\n",
    "    \n",
    "    probe_stim = nengo.Probe(ens_stim, synapse=0.01)\n",
    "    probe_delta = nengo.Probe(ens_delta, synapse=0.01)\n",
    "    probe_memory = nengo.Probe(ens_memory, synapse=0.01)\n",
    "    probe_number = nengo.Probe(ens_number, synapse=0.01)\n",
    "sim = nengo.Simulator(network, dt=0.001)\n",
    "with sim:\n",
    "    sim.run(20)"
   ]
  },
  {
   "cell_type": "code",
   "execution_count": 89,
   "id": "d31834a0-d25e-4c23-8b69-530033b093cd",
   "metadata": {},
   "outputs": [
    {
     "data": {
      "image/png": "[encoded data removed]",
      "text/plain": [
       "<Figure size 640x480 with 3 Axes>"
      ]
     },
     "metadata": {},
     "output_type": "display_data"
    },
    {
     "data": {
      "image/png": "[encoded data removed]",
      "text/plain": [
       "<Figure size 640x480 with 1 Axes>"
      ]
     },
     "metadata": {},
     "output_type": "display_data"
    }
   ],
   "source": [
    "fig, axes = plt.subplots(nrows=3, sharex=True)\n",
    "sns.lineplot(x=sim.trange().flatten(), y=sim.data[probe_stim].flatten(), label='observations', color=palette[0], ax=axes[0])\n",
    "sns.lineplot(x=sim.trange().flatten(), y=sim.data[probe_delta].flatten(), label='delta', color=palette[1], ax=axes[1])\n",
    "sns.lineplot(x=sim.trange().flatten(), y=sim.data[probe_memory].flatten(), label='memory', color=palette[2], ax=axes[2])\n",
    "axes[-1].set(xlabel='time (s)')\n",
    "fig.tight_layout()\n",
    "\n",
    "with sns.axes_style(\"whitegrid\"):  # This enables gridlines\n",
    "    fig, axes = plt.subplots(nrows=1, sharex=True)\n",
    "    sns.lineplot(x=sim.trange().flatten(), y=sim.data[probe_number].flatten(), label='number', color=palette[0], ax=axes)\n",
    "    sns.lineplot(x=np.arange(0, 21, 1), y=np.arange(0, 21, 1), color='k')\n",
    "    axes.set(xlabel='time (s)', xticks=np.arange(0, 21, 1), yticks=np.arange(0, 21, 1))\n",
    "    plt.grid(True, axis='y')  # Enable only y-axis gridlines\n",
    "    fig.tight_layout()"
   ]
  },
  {
   "cell_type": "markdown",
   "id": "b137642d-b0c6-4b2d-8449-f77dac14b2fb",
   "metadata": {},
   "source": [
    "## Test utility of Alpha synapse for delay"
   ]
  },
  {
   "cell_type": "code",
   "execution_count": 166,
   "id": "42935c65-fd2c-45af-b9c9-4a14ffec726e",
   "metadata": {},
   "outputs": [
    {
     "data": {
      "application/vdom.v1+json": {
       "attributes": {},
       "tagName": "div"
      },
      "text/html": [
       "\n",
       "                <script>\n",
       "                    if (Jupyter.version.split(\".\")[0] < 5) {\n",
       "                        var pb = document.getElementById(\"fc66f541-ef8e-4171-9679-957b2f7250f8\");\n",
       "                        var text = document.createTextNode(\n",
       "                            \"HTML progress bar requires Jupyter Notebook >= \" +\n",
       "                            \"5.0 or Jupyter Lab. Alternatively, you can use \" +\n",
       "                            \"TerminalProgressBar().\");\n",
       "                        pb.parentNode.insertBefore(text, pb);\n",
       "                    }\n",
       "                </script>\n",
       "                <div id=\"fc66f541-ef8e-4171-9679-957b2f7250f8\" style=\"\n",
       "                    width: 100%;\n",
       "                    border: 1px solid #cfcfcf;\n",
       "                    border-radius: 4px;\n",
       "                    text-align: center;\n",
       "                    position: relative;\">\n",
       "                  <div class=\"pb-text\" style=\"\n",
       "                      position: absolute;\n",
       "                      width: 100%;\">\n",
       "                    0%\n",
       "                  </div>\n",
       "                  <div class=\"pb-fill\" style=\"\n",
       "                      background-color: #bdd2e6;\n",
       "                      width: 0%;\">\n",
       "                    <style type=\"text/css\" scoped=\"scoped\">\n",
       "                        @keyframes pb-fill-anim {\n",
       "                            0% { background-position: 0 0; }\n",
       "                            100% { background-position: 100px 0; }\n",
       "                        }\n",
       "                    </style>\n",
       "                    &nbsp;\n",
       "                  </div>\n",
       "                </div>"
      ],
      "text/plain": [
       "HtmlProgressBar cannot be displayed. Please use the TerminalProgressBar. It can be enabled with `nengo.rc['progress']['progress_bar'] = 'nengo.utils.progress.TerminalProgressBar'`."
      ]
     },
     "metadata": {},
     "output_type": "display_data"
    },
    {
     "data": {
      "application/vdom.v1+json": {
       "attributes": {
        "id": "a98ed5be-b5e5-47c8-ae7d-c2f3f1a36cbc",
        "style": {
         "border": "1px solid #cfcfcf",
         "borderRadius": "4px",
         "boxSizing": "border-box",
         "position": "relative",
         "textAlign": "center",
         "width": "100%"
        }
       },
       "children": [
        {
         "attributes": {
          "class": "pb-text",
          "style": {
           "position": "absolute",
           "width": "100%"
          }
         },
         "children": [
          "Build finished in 0:00:01."
         ],
         "tagName": "div"
        },
        {
         "attributes": {
          "class": "pb-fill",
          "style": {
           "animation": "none",
           "backgroundColor": "#bdd2e6",
           "backgroundImage": "none",
           "backgroundSize": "100px 100%",
           "width": "100%"
          }
         },
         "children": [
          {
           "attributes": {
            "scoped": "scoped",
            "type": "text/css"
           },
           "children": [
            "\n                        @keyframes pb-fill-anim {\n                            0% { background-position: 0 0; }\n                            100% { background-position: 100px 0; }\n                        }}"
           ],
           "tagName": "style"
          },
          " "
         ],
         "tagName": "div"
        }
       ],
       "tagName": "div"
      },
      "text/html": [
       "<script>\n",
       "              (function () {\n",
       "                  var root = document.getElementById('fc66f541-ef8e-4171-9679-957b2f7250f8');\n",
       "                  var text = root.getElementsByClassName('pb-text')[0];\n",
       "                  var fill = root.getElementsByClassName('pb-fill')[0];\n",
       "\n",
       "                  text.innerHTML = 'Build finished in 0:00:01.';\n",
       "                  \n",
       "            fill.style.width = '100%';\n",
       "            fill.style.animation = 'pb-fill-anim 2s linear infinite';\n",
       "            fill.style.backgroundSize = '100px 100%';\n",
       "            fill.style.backgroundImage = 'repeating-linear-gradient(' +\n",
       "                '90deg, #bdd2e6, #edf2f8 40%, #bdd2e6 80%, #bdd2e6)';\n",
       "        \n",
       "                  \n",
       "                fill.style.animation = 'none';\n",
       "                fill.style.backgroundImage = 'none';\n",
       "            \n",
       "              })();\n",
       "        </script>"
      ]
     },
     "metadata": {},
     "output_type": "display_data"
    },
    {
     "data": {
      "application/vdom.v1+json": {
       "attributes": {},
       "tagName": "div"
      },
      "text/html": [
       "\n",
       "                <script>\n",
       "                    if (Jupyter.version.split(\".\")[0] < 5) {\n",
       "                        var pb = document.getElementById(\"59e2806f-b618-450a-b4d8-9467853f5946\");\n",
       "                        var text = document.createTextNode(\n",
       "                            \"HTML progress bar requires Jupyter Notebook >= \" +\n",
       "                            \"5.0 or Jupyter Lab. Alternatively, you can use \" +\n",
       "                            \"TerminalProgressBar().\");\n",
       "                        pb.parentNode.insertBefore(text, pb);\n",
       "                    }\n",
       "                </script>\n",
       "                <div id=\"59e2806f-b618-450a-b4d8-9467853f5946\" style=\"\n",
       "                    width: 100%;\n",
       "                    border: 1px solid #cfcfcf;\n",
       "                    border-radius: 4px;\n",
       "                    text-align: center;\n",
       "                    position: relative;\">\n",
       "                  <div class=\"pb-text\" style=\"\n",
       "                      position: absolute;\n",
       "                      width: 100%;\">\n",
       "                    0%\n",
       "                  </div>\n",
       "                  <div class=\"pb-fill\" style=\"\n",
       "                      background-color: #bdd2e6;\n",
       "                      width: 0%;\">\n",
       "                    <style type=\"text/css\" scoped=\"scoped\">\n",
       "                        @keyframes pb-fill-anim {\n",
       "                            0% { background-position: 0 0; }\n",
       "                            100% { background-position: 100px 0; }\n",
       "                        }\n",
       "                    </style>\n",
       "                    &nbsp;\n",
       "                  </div>\n",
       "                </div>"
      ],
      "text/plain": [
       "HtmlProgressBar cannot be displayed. Please use the TerminalProgressBar. It can be enabled with `nengo.rc['progress']['progress_bar'] = 'nengo.utils.progress.TerminalProgressBar'`."
      ]
     },
     "metadata": {},
     "output_type": "display_data"
    },
    {
     "data": {
      "application/vdom.v1+json": {
       "attributes": {
        "id": "52c45d23-3a6d-442a-ac7e-b61f6967cd7b",
        "style": {
         "border": "1px solid #cfcfcf",
         "borderRadius": "4px",
         "boxSizing": "border-box",
         "position": "relative",
         "textAlign": "center",
         "width": "100%"
        }
       },
       "children": [
        {
         "attributes": {
          "class": "pb-text",
          "style": {
           "position": "absolute",
           "width": "100%"
          }
         },
         "children": [
          "Simulation finished in 0:00:01."
         ],
         "tagName": "div"
        },
        {
         "attributes": {
          "class": "pb-fill",
          "style": {
           "animation": "none",
           "backgroundColor": "#bdd2e6",
           "backgroundImage": "none",
           "transition": "width 0.1s linear",
           "width": "100%"
          }
         },
         "children": [
          {
           "attributes": {
            "scoped": "scoped",
            "type": "text/css"
           },
           "children": [
            "\n                        @keyframes pb-fill-anim {\n                            0% { background-position: 0 0; }\n                            100% { background-position: 100px 0; }\n                        }}"
           ],
           "tagName": "style"
          },
          " "
         ],
         "tagName": "div"
        }
       ],
       "tagName": "div"
      },
      "text/html": [
       "<script>\n",
       "              (function () {\n",
       "                  var root = document.getElementById('59e2806f-b618-450a-b4d8-9467853f5946');\n",
       "                  var text = root.getElementsByClassName('pb-text')[0];\n",
       "                  var fill = root.getElementsByClassName('pb-fill')[0];\n",
       "\n",
       "                  text.innerHTML = 'Simulation finished in 0:00:01.';\n",
       "                  \n",
       "            if (100.0 > 0.) {\n",
       "                fill.style.transition = 'width 0.1s linear';\n",
       "            } else {\n",
       "                fill.style.transition = 'none';\n",
       "            }\n",
       "\n",
       "            fill.style.width = '100.0%';\n",
       "            fill.style.animation = 'none';\n",
       "            fill.style.backgroundImage = 'none'\n",
       "        \n",
       "                  \n",
       "                fill.style.animation = 'none';\n",
       "                fill.style.backgroundImage = 'none';\n",
       "            \n",
       "              })();\n",
       "        </script>"
      ]
     },
     "metadata": {},
     "output_type": "display_data"
    }
   ],
   "source": [
    "stimuli = np.random.RandomState(seed=0).randint(0,2,size=21)\n",
    "stimuli = 2*stimuli - 1\n",
    "func_stim = lambda t: stimuli[int(t)] if t%1<0.5 else 0\n",
    "\n",
    "network = nengo.Network(seed=0)\n",
    "\n",
    "with network:\n",
    "    node_stim = nengo.Node(func_stim)\n",
    "    \n",
    "    ens_stim = nengo.Ensemble(1000, 1)\n",
    "    ens_combined = nengo.Ensemble(2000, 2)\n",
    "    ens_diff = nengo.Ensemble(2000, 1, radius=0.5)\n",
    "    ens_memory = nengo.Ensemble(2000, 1, radius=2)\n",
    "\n",
    "    conn_stim = nengo.Connection(node_stim, ens_stim, synapse=None)\n",
    "    conn_comb1 = nengo.Connection(ens_stim, ens_combined[0], synapse=0.01)\n",
    "    conn_comb2 = nengo.Connection(ens_memory, ens_combined[1], synapse=nengo.synapses.Alpha(0.1))\n",
    "    conn_ff = nengo.Connection(ens_combined[0], ens_diff, synapse=0.01)\n",
    "    conn_diff1 = nengo.Connection(ens_diff, ens_memory, synapse=0.05, transform=10)\n",
    "    conn_diff2 = nengo.Connection(ens_memory, ens_diff, synapse=0.01, transform=-1)\n",
    "    conn_mem = nengo.Connection(ens_memory, ens_memory, synapse=0.1)\n",
    "\n",
    "    probe_stim = nengo.Probe(ens_stim, synapse=0.01)\n",
    "    probe_memory = nengo.Probe(ens_memory, synapse=0.01)\n",
    "    probe_combined = nengo.Probe(ens_combined, synapse=0.01)\n",
    "    probe_diff = nengo.Probe(ens_diff, synapse=0.01)\n",
    "\n",
    "sim = nengo.Simulator(network, dt=0.001)\n",
    "with sim:\n",
    "    sim.run(3)"
   ]
  },
  {
   "cell_type": "code",
   "execution_count": 167,
   "id": "8051e14e-f5d3-463a-b8db-d4959a4ec7b4",
   "metadata": {},
   "outputs": [
    {
     "data": {
      "image/png": "[encoded data removed]",
      "text/plain": [
       "<Figure size 640x480 with 4 Axes>"
      ]
     },
     "metadata": {},
     "output_type": "display_data"
    }
   ],
   "source": [
    "with sns.axes_style(\"whitegrid\"):  # This enables gridlines\n",
    "    fig, axes = plt.subplots(nrows=4, sharex=True, sharey=True)\n",
    "    axes[0].plot(sim.trange().flatten(), sim.data[probe_stim].flatten(), label='observations', color=palette[0])\n",
    "    axes[1].plot(sim.trange(), sim.data[probe_combined][:,0], label='combined (input)', color=palette[0])\n",
    "    axes[1].plot(sim.trange(), sim.data[probe_combined][:,1], label='combined (feedback from memory)', color=palette[3])\n",
    "    axes[2].plot(sim.trange().flatten(), sim.data[probe_diff].flatten(), label='diff', color=palette[2])\n",
    "    axes[3].plot(sim.trange().flatten(), sim.data[probe_memory].flatten(), label='memory', color=palette[3])\n",
    "    axes[-1].set(xlabel='time (s)', ylim=(-1,1))\n",
    "    fig.tight_layout()"
   ]
  },
  {
   "cell_type": "markdown",
   "id": "34ea1d39-70ec-4778-a99f-5272993569d2",
   "metadata": {},
   "source": [
    "## Compute 1/x"
   ]
  },
  {
   "cell_type": "code",
   "execution_count": 55,
   "id": "a5db127f-004d-4d9d-a8dd-464528e7d6c5",
   "metadata": {},
   "outputs": [
    {
     "data": {
      "application/vdom.v1+json": {
       "attributes": {},
       "tagName": "div"
      },
      "text/html": [
       "\n",
       "                <script>\n",
       "                    if (Jupyter.version.split(\".\")[0] < 5) {\n",
       "                        var pb = document.getElementById(\"f401aab2-5424-4226-892a-c8c07cec94dd\");\n",
       "                        var text = document.createTextNode(\n",
       "                            \"HTML progress bar requires Jupyter Notebook >= \" +\n",
       "                            \"5.0 or Jupyter Lab. Alternatively, you can use \" +\n",
       "                            \"TerminalProgressBar().\");\n",
       "                        pb.parentNode.insertBefore(text, pb);\n",
       "                    }\n",
       "                </script>\n",
       "                <div id=\"f401aab2-5424-4226-892a-c8c07cec94dd\" style=\"\n",
       "                    width: 100%;\n",
       "                    border: 1px solid #cfcfcf;\n",
       "                    border-radius: 4px;\n",
       "                    text-align: center;\n",
       "                    position: relative;\">\n",
       "                  <div class=\"pb-text\" style=\"\n",
       "                      position: absolute;\n",
       "                      width: 100%;\">\n",
       "                    0%\n",
       "                  </div>\n",
       "                  <div class=\"pb-fill\" style=\"\n",
       "                      background-color: #bdd2e6;\n",
       "                      width: 0%;\">\n",
       "                    <style type=\"text/css\" scoped=\"scoped\">\n",
       "                        @keyframes pb-fill-anim {\n",
       "                            0% { background-position: 0 0; }\n",
       "                            100% { background-position: 100px 0; }\n",
       "                        }\n",
       "                    </style>\n",
       "                    &nbsp;\n",
       "                  </div>\n",
       "                </div>"
      ],
      "text/plain": [
       "HtmlProgressBar cannot be displayed. Please use the TerminalProgressBar. It can be enabled with `nengo.rc['progress']['progress_bar'] = 'nengo.utils.progress.TerminalProgressBar'`."
      ]
     },
     "metadata": {},
     "output_type": "display_data"
    },
    {
     "data": {
      "application/vdom.v1+json": {
       "attributes": {
        "id": "d5ad55f9-85d9-4ee7-b031-639f557da189",
        "style": {
         "border": "1px solid #cfcfcf",
         "borderRadius": "4px",
         "boxSizing": "border-box",
         "position": "relative",
         "textAlign": "center",
         "width": "100%"
        }
       },
       "children": [
        {
         "attributes": {
          "class": "pb-text",
          "style": {
           "position": "absolute",
           "width": "100%"
          }
         },
         "children": [
          "Build finished in 0:00:01."
         ],
         "tagName": "div"
        },
        {
         "attributes": {
          "class": "pb-fill",
          "style": {
           "animation": "none",
           "backgroundColor": "#bdd2e6",
           "backgroundImage": "none",
           "backgroundSize": "100px 100%",
           "width": "100%"
          }
         },
         "children": [
          {
           "attributes": {
            "scoped": "scoped",
            "type": "text/css"
           },
           "children": [
            "\n                        @keyframes pb-fill-anim {\n                            0% { background-position: 0 0; }\n                            100% { background-position: 100px 0; }\n                        }}"
           ],
           "tagName": "style"
          },
          " "
         ],
         "tagName": "div"
        }
       ],
       "tagName": "div"
      },
      "text/html": [
       "<script>\n",
       "              (function () {\n",
       "                  var root = document.getElementById('f401aab2-5424-4226-892a-c8c07cec94dd');\n",
       "                  var text = root.getElementsByClassName('pb-text')[0];\n",
       "                  var fill = root.getElementsByClassName('pb-fill')[0];\n",
       "\n",
       "                  text.innerHTML = 'Build finished in 0:00:01.';\n",
       "                  \n",
       "            fill.style.width = '100%';\n",
       "            fill.style.animation = 'pb-fill-anim 2s linear infinite';\n",
       "            fill.style.backgroundSize = '100px 100%';\n",
       "            fill.style.backgroundImage = 'repeating-linear-gradient(' +\n",
       "                '90deg, #bdd2e6, #edf2f8 40%, #bdd2e6 80%, #bdd2e6)';\n",
       "        \n",
       "                  \n",
       "                fill.style.animation = 'none';\n",
       "                fill.style.backgroundImage = 'none';\n",
       "            \n",
       "              })();\n",
       "        </script>"
      ]
     },
     "metadata": {},
     "output_type": "display_data"
    },
    {
     "data": {
      "application/vdom.v1+json": {
       "attributes": {},
       "tagName": "div"
      },
      "text/html": [
       "\n",
       "                <script>\n",
       "                    if (Jupyter.version.split(\".\")[0] < 5) {\n",
       "                        var pb = document.getElementById(\"d964af54-7f97-499e-8bc6-7bfd9ada4438\");\n",
       "                        var text = document.createTextNode(\n",
       "                            \"HTML progress bar requires Jupyter Notebook >= \" +\n",
       "                            \"5.0 or Jupyter Lab. Alternatively, you can use \" +\n",
       "                            \"TerminalProgressBar().\");\n",
       "                        pb.parentNode.insertBefore(text, pb);\n",
       "                    }\n",
       "                </script>\n",
       "                <div id=\"d964af54-7f97-499e-8bc6-7bfd9ada4438\" style=\"\n",
       "                    width: 100%;\n",
       "                    border: 1px solid #cfcfcf;\n",
       "                    border-radius: 4px;\n",
       "                    text-align: center;\n",
       "                    position: relative;\">\n",
       "                  <div class=\"pb-text\" style=\"\n",
       "                      position: absolute;\n",
       "                      width: 100%;\">\n",
       "                    0%\n",
       "                  </div>\n",
       "                  <div class=\"pb-fill\" style=\"\n",
       "                      background-color: #bdd2e6;\n",
       "                      width: 0%;\">\n",
       "                    <style type=\"text/css\" scoped=\"scoped\">\n",
       "                        @keyframes pb-fill-anim {\n",
       "                            0% { background-position: 0 0; }\n",
       "                            100% { background-position: 100px 0; }\n",
       "                        }\n",
       "                    </style>\n",
       "                    &nbsp;\n",
       "                  </div>\n",
       "                </div>"
      ],
      "text/plain": [
       "HtmlProgressBar cannot be displayed. Please use the TerminalProgressBar. It can be enabled with `nengo.rc['progress']['progress_bar'] = 'nengo.utils.progress.TerminalProgressBar'`."
      ]
     },
     "metadata": {},
     "output_type": "display_data"
    },
    {
     "data": {
      "application/vdom.v1+json": {
       "attributes": {
        "id": "03f36bff-3883-4ffd-bcaf-15a327443892",
        "style": {
         "border": "1px solid #cfcfcf",
         "borderRadius": "4px",
         "boxSizing": "border-box",
         "position": "relative",
         "textAlign": "center",
         "width": "100%"
        }
       },
       "children": [
        {
         "attributes": {
          "class": "pb-text",
          "style": {
           "position": "absolute",
           "width": "100%"
          }
         },
         "children": [
          "Simulation finished in 0:00:02."
         ],
         "tagName": "div"
        },
        {
         "attributes": {
          "class": "pb-fill",
          "style": {
           "animation": "none",
           "backgroundColor": "#bdd2e6",
           "backgroundImage": "none",
           "transition": "width 0.1s linear",
           "width": "100%"
          }
         },
         "children": [
          {
           "attributes": {
            "scoped": "scoped",
            "type": "text/css"
           },
           "children": [
            "\n                        @keyframes pb-fill-anim {\n                            0% { background-position: 0 0; }\n                            100% { background-position: 100px 0; }\n                        }}"
           ],
           "tagName": "style"
          },
          " "
         ],
         "tagName": "div"
        }
       ],
       "tagName": "div"
      },
      "text/html": [
       "<script>\n",
       "              (function () {\n",
       "                  var root = document.getElementById('d964af54-7f97-499e-8bc6-7bfd9ada4438');\n",
       "                  var text = root.getElementsByClassName('pb-text')[0];\n",
       "                  var fill = root.getElementsByClassName('pb-fill')[0];\n",
       "\n",
       "                  text.innerHTML = 'Simulation finished in 0:00:02.';\n",
       "                  \n",
       "            if (100.0 > 0.) {\n",
       "                fill.style.transition = 'width 0.1s linear';\n",
       "            } else {\n",
       "                fill.style.transition = 'none';\n",
       "            }\n",
       "\n",
       "            fill.style.width = '100.0%';\n",
       "            fill.style.animation = 'none';\n",
       "            fill.style.backgroundImage = 'none'\n",
       "        \n",
       "                  \n",
       "                fill.style.animation = 'none';\n",
       "                fill.style.backgroundImage = 'none';\n",
       "            \n",
       "              })();\n",
       "        </script>"
      ]
     },
     "metadata": {},
     "output_type": "display_data"
    },
    {
     "data": {
      "image/png": "[encoded data removed]",
      "text/plain": [
       "<Figure size 640x480 with 2 Axes>"
      ]
     },
     "metadata": {},
     "output_type": "display_data"
    }
   ],
   "source": [
    "stimuli = np.random.RandomState(seed=0).randint(0,2,size=21)\n",
    "stimuli = 2*stimuli - 1\n",
    "\n",
    "network = nengo.Network(seed=1111)\n",
    "\n",
    "func_stim2 = lambda t: stimuli[int(t)]\n",
    "func_number = lambda t: int(t+1)\n",
    "func_inverse = lambda x: 1/(x+10)\n",
    "func_center = lambda x: x-10\n",
    "\n",
    "encoders = nengo.dists.Choice([[1]])\n",
    "intercepts = nengo.dists.Uniform(0.0, 1)\n",
    "eval_points = np.linspace(-1, 1, 1000).reshape(-1,1)\n",
    "\n",
    "with network:\n",
    "    node_stim = nengo.Node(func_stim2)\n",
    "    node_number = nengo.Node(func_number)\n",
    "    node_centered = nengo.Ensemble(1, 1, neuron_type=nengo.Direct())\n",
    "    node_weight = nengo.Ensemble(1, 1, neuron_type=nengo.Direct(), encoders=encoders, intercepts=intercepts)\n",
    "\n",
    "    ens_stim = nengo.Ensemble(1000, 1)\n",
    "    ens_number = nengo.Ensemble(1000, 1, radius=20)\n",
    "    ens_centered = nengo.Ensemble(1000, 1, radius=11)\n",
    "    ens_weight = nengo.Ensemble(1000, 1, radius=0.9)\n",
    "\n",
    "    conn_stim = nengo.Connection(node_stim, ens_stim)\n",
    "    conn_num = nengo.Connection(node_number, ens_number)\n",
    "    conn_center = nengo.Connection(ens_number, ens_centered, synapse=0.01, function=func_center)\n",
    "    conn_weight = nengo.Connection(ens_centered, ens_weight, synapse=0.03, function=func_inverse, eval_points=eval_points)\n",
    "    conn_center_p = nengo.Connection(node_number, node_centered, synapse=None, function=func_center)\n",
    "    conn_weight_p = nengo.Connection(node_centered, node_weight, synapse=0.03, function=func_inverse, eval_points=eval_points)\n",
    "    \n",
    "    probe_stim = nengo.Probe(ens_stim, synapse=0.03)\n",
    "    probe_number = nengo.Probe(ens_number, synapse=0.03)\n",
    "    probe_centered = nengo.Probe(ens_centered, synapse=0.03)\n",
    "    probe_weight = nengo.Probe(ens_weight, synapse=0.03)\n",
    "    probe_centered_p = nengo.Probe(node_centered, synapse=0.03)\n",
    "    probe_weight_p = nengo.Probe(node_weight, synapse=0.03)\n",
    "\n",
    "sim = nengo.Simulator(network, dt=0.001)\n",
    "with sim:\n",
    "    sim.run(10)\n",
    "    \n",
    "fig, axes = plt.subplots(nrows=2, sharex=True)\n",
    "axes[0].plot(sim.trange(), sim.data[probe_centered], label='estimate')\n",
    "axes[0].plot(sim.trange(), sim.data[probe_centered_p], label='N - 10')\n",
    "axes[1].plot(sim.trange(), sim.data[probe_weight], label='estimate')\n",
    "axes[1].plot(sim.trange(), sim.data[probe_weight_p], label='1/N')\n",
    "axes[0].legend()\n",
    "axes[1].legend()\n",
    "plt.show()"
   ]
  },
  {
   "cell_type": "markdown",
   "id": "8e8e153d-5507-4a66-b342-13b02202965c",
   "metadata": {},
   "source": [
    "### No Centering"
   ]
  },
  {
   "cell_type": "code",
   "execution_count": 29,
   "id": "b9cd666d-8789-4952-abc5-2d0fa4f6aef6",
   "metadata": {},
   "outputs": [
    {
     "data": {
      "application/vdom.v1+json": {
       "attributes": {},
       "tagName": "div"
      },
      "text/html": [
       "\n",
       "                <script>\n",
       "                    if (Jupyter.version.split(\".\")[0] < 5) {\n",
       "                        var pb = document.getElementById(\"ddd4105e-6ba0-46e2-8174-7403a5b1b513\");\n",
       "                        var text = document.createTextNode(\n",
       "                            \"HTML progress bar requires Jupyter Notebook >= \" +\n",
       "                            \"5.0 or Jupyter Lab. Alternatively, you can use \" +\n",
       "                            \"TerminalProgressBar().\");\n",
       "                        pb.parentNode.insertBefore(text, pb);\n",
       "                    }\n",
       "                </script>\n",
       "                <div id=\"ddd4105e-6ba0-46e2-8174-7403a5b1b513\" style=\"\n",
       "                    width: 100%;\n",
       "                    border: 1px solid #cfcfcf;\n",
       "                    border-radius: 4px;\n",
       "                    text-align: center;\n",
       "                    position: relative;\">\n",
       "                  <div class=\"pb-text\" style=\"\n",
       "                      position: absolute;\n",
       "                      width: 100%;\">\n",
       "                    0%\n",
       "                  </div>\n",
       "                  <div class=\"pb-fill\" style=\"\n",
       "                      background-color: #bdd2e6;\n",
       "                      width: 0%;\">\n",
       "                    <style type=\"text/css\" scoped=\"scoped\">\n",
       "                        @keyframes pb-fill-anim {\n",
       "                            0% { background-position: 0 0; }\n",
       "                            100% { background-position: 100px 0; }\n",
       "                        }\n",
       "                    </style>\n",
       "                    &nbsp;\n",
       "                  </div>\n",
       "                </div>"
      ],
      "text/plain": [
       "HtmlProgressBar cannot be displayed. Please use the TerminalProgressBar. It can be enabled with `nengo.rc['progress']['progress_bar'] = 'nengo.utils.progress.TerminalProgressBar'`."
      ]
     },
     "metadata": {},
     "output_type": "display_data"
    },
    {
     "data": {
      "application/vdom.v1+json": {
       "attributes": {
        "id": "c076db7a-72a3-42d1-8f48-f6d4823a38de",
        "style": {
         "border": "1px solid #cfcfcf",
         "borderRadius": "4px",
         "boxSizing": "border-box",
         "position": "relative",
         "textAlign": "center",
         "width": "100%"
        }
       },
       "children": [
        {
         "attributes": {
          "class": "pb-text",
          "style": {
           "position": "absolute",
           "width": "100%"
          }
         },
         "children": [
          "Build finished in 0:00:01."
         ],
         "tagName": "div"
        },
        {
         "attributes": {
          "class": "pb-fill",
          "style": {
           "animation": "none",
           "backgroundColor": "#bdd2e6",
           "backgroundImage": "none",
           "backgroundSize": "100px 100%",
           "width": "100%"
          }
         },
         "children": [
          {
           "attributes": {
            "scoped": "scoped",
            "type": "text/css"
           },
           "children": [
            "\n                        @keyframes pb-fill-anim {\n                            0% { background-position: 0 0; }\n                            100% { background-position: 100px 0; }\n                        }}"
           ],
           "tagName": "style"
          },
          " "
         ],
         "tagName": "div"
        }
       ],
       "tagName": "div"
      },
      "text/html": [
       "<script>\n",
       "              (function () {\n",
       "                  var root = document.getElementById('ddd4105e-6ba0-46e2-8174-7403a5b1b513');\n",
       "                  var text = root.getElementsByClassName('pb-text')[0];\n",
       "                  var fill = root.getElementsByClassName('pb-fill')[0];\n",
       "\n",
       "                  text.innerHTML = 'Build finished in 0:00:01.';\n",
       "                  \n",
       "            fill.style.width = '100%';\n",
       "            fill.style.animation = 'pb-fill-anim 2s linear infinite';\n",
       "            fill.style.backgroundSize = '100px 100%';\n",
       "            fill.style.backgroundImage = 'repeating-linear-gradient(' +\n",
       "                '90deg, #bdd2e6, #edf2f8 40%, #bdd2e6 80%, #bdd2e6)';\n",
       "        \n",
       "                  \n",
       "                fill.style.animation = 'none';\n",
       "                fill.style.backgroundImage = 'none';\n",
       "            \n",
       "              })();\n",
       "        </script>"
      ]
     },
     "metadata": {},
     "output_type": "display_data"
    },
    {
     "data": {
      "application/vdom.v1+json": {
       "attributes": {},
       "tagName": "div"
      },
      "text/html": [
       "\n",
       "                <script>\n",
       "                    if (Jupyter.version.split(\".\")[0] < 5) {\n",
       "                        var pb = document.getElementById(\"cc66e4b0-24a4-49e0-ae73-00e4473cd959\");\n",
       "                        var text = document.createTextNode(\n",
       "                            \"HTML progress bar requires Jupyter Notebook >= \" +\n",
       "                            \"5.0 or Jupyter Lab. Alternatively, you can use \" +\n",
       "                            \"TerminalProgressBar().\");\n",
       "                        pb.parentNode.insertBefore(text, pb);\n",
       "                    }\n",
       "                </script>\n",
       "                <div id=\"cc66e4b0-24a4-49e0-ae73-00e4473cd959\" style=\"\n",
       "                    width: 100%;\n",
       "                    border: 1px solid #cfcfcf;\n",
       "                    border-radius: 4px;\n",
       "                    text-align: center;\n",
       "                    position: relative;\">\n",
       "                  <div class=\"pb-text\" style=\"\n",
       "                      position: absolute;\n",
       "                      width: 100%;\">\n",
       "                    0%\n",
       "                  </div>\n",
       "                  <div class=\"pb-fill\" style=\"\n",
       "                      background-color: #bdd2e6;\n",
       "                      width: 0%;\">\n",
       "                    <style type=\"text/css\" scoped=\"scoped\">\n",
       "                        @keyframes pb-fill-anim {\n",
       "                            0% { background-position: 0 0; }\n",
       "                            100% { background-position: 100px 0; }\n",
       "                        }\n",
       "                    </style>\n",
       "                    &nbsp;\n",
       "                  </div>\n",
       "                </div>"
      ],
      "text/plain": [
       "HtmlProgressBar cannot be displayed. Please use the TerminalProgressBar. It can be enabled with `nengo.rc['progress']['progress_bar'] = 'nengo.utils.progress.TerminalProgressBar'`."
      ]
     },
     "metadata": {},
     "output_type": "display_data"
    },
    {
     "data": {
      "application/vdom.v1+json": {
       "attributes": {
        "id": "43682482-df00-48ef-bbc4-7fea51dc79bc",
        "style": {
         "border": "1px solid #cfcfcf",
         "borderRadius": "4px",
         "boxSizing": "border-box",
         "position": "relative",
         "textAlign": "center",
         "width": "100%"
        }
       },
       "children": [
        {
         "attributes": {
          "class": "pb-text",
          "style": {
           "position": "absolute",
           "width": "100%"
          }
         },
         "children": [
          "Simulation finished in 0:00:01."
         ],
         "tagName": "div"
        },
        {
         "attributes": {
          "class": "pb-fill",
          "style": {
           "animation": "none",
           "backgroundColor": "#bdd2e6",
           "backgroundImage": "none",
           "transition": "width 0.1s linear",
           "width": "100%"
          }
         },
         "children": [
          {
           "attributes": {
            "scoped": "scoped",
            "type": "text/css"
           },
           "children": [
            "\n                        @keyframes pb-fill-anim {\n                            0% { background-position: 0 0; }\n                            100% { background-position: 100px 0; }\n                        }}"
           ],
           "tagName": "style"
          },
          " "
         ],
         "tagName": "div"
        }
       ],
       "tagName": "div"
      },
      "text/html": [
       "<script>\n",
       "              (function () {\n",
       "                  var root = document.getElementById('cc66e4b0-24a4-49e0-ae73-00e4473cd959');\n",
       "                  var text = root.getElementsByClassName('pb-text')[0];\n",
       "                  var fill = root.getElementsByClassName('pb-fill')[0];\n",
       "\n",
       "                  text.innerHTML = 'Simulation finished in 0:00:01.';\n",
       "                  \n",
       "            if (100.0 > 0.) {\n",
       "                fill.style.transition = 'width 0.1s linear';\n",
       "            } else {\n",
       "                fill.style.transition = 'none';\n",
       "            }\n",
       "\n",
       "            fill.style.width = '100.0%';\n",
       "            fill.style.animation = 'none';\n",
       "            fill.style.backgroundImage = 'none'\n",
       "        \n",
       "                  \n",
       "                fill.style.animation = 'none';\n",
       "                fill.style.backgroundImage = 'none';\n",
       "            \n",
       "              })();\n",
       "        </script>"
      ]
     },
     "metadata": {},
     "output_type": "display_data"
    },
    {
     "data": {
      "image/png": "[encoded data removed]",
      "text/plain": [
       "<Figure size 640x480 with 2 Axes>"
      ]
     },
     "metadata": {},
     "output_type": "display_data"
    }
   ],
   "source": [
    "network = nengo.Network(seed=1)\n",
    "\n",
    "func_stim2 = lambda t: stimuli[int(t)]\n",
    "func_number = lambda t: int(t+1)\n",
    "func_inverse = lambda x: 1/x if np.abs(x)>0.1 else 1\n",
    "\n",
    "encoders = nengo.dists.Choice([[1]])\n",
    "intercepts = nengo.dists.Uniform(0.0, 1)\n",
    "eval_points = np.linspace(0.0, 1, 1000).reshape(-1,1)\n",
    "\n",
    "with network:\n",
    "    node_stim = nengo.Node(func_stim2)\n",
    "    node_number = nengo.Node(func_number)\n",
    "    node_weight = nengo.Ensemble(1, 1, neuron_type=nengo.Direct())\n",
    "\n",
    "    ens_stim = nengo.Ensemble(1000, 1)\n",
    "    ens_number = nengo.Ensemble(1000, 1, radius=20)\n",
    "    ens_weight = nengo.Ensemble(1000, 1, encoders=encoders, intercepts=intercepts)\n",
    "\n",
    "    conn_stim = nengo.Connection(node_stim, ens_stim)\n",
    "    conn_num = nengo.Connection(node_number, ens_number)\n",
    "    conn_weight = nengo.Connection(ens_number, ens_weight, synapse=0.03, function=func_inverse)\n",
    "    conn_weight_p = nengo.Connection(node_number, node_weight, synapse=0.03, function=func_inverse)\n",
    "    \n",
    "    probe_stim = nengo.Probe(ens_stim, synapse=0.03)\n",
    "    probe_number = nengo.Probe(ens_number, synapse=0.03)\n",
    "    probe_number_p = nengo.Probe(node_number, synapse=0.03)\n",
    "    probe_weight = nengo.Probe(ens_weight, synapse=0.03)\n",
    "    probe_weight_p = nengo.Probe(node_weight, synapse=0.03)\n",
    "\n",
    "sim = nengo.Simulator(network, dt=0.001)\n",
    "with sim:\n",
    "    sim.run(10)\n",
    "\n",
    "fig, axes = plt.subplots(nrows=2, sharex=True)\n",
    "axes[0].plot(sim.trange(), sim.data[probe_number], label='estimate')\n",
    "axes[0].plot(sim.trange(), sim.data[probe_number_p], label='N')\n",
    "axes[1].plot(sim.trange(), sim.data[probe_weight], label='estimate')\n",
    "axes[1].plot(sim.trange(), sim.data[probe_weight_p], label='1/N')\n",
    "axes[0].legend()\n",
    "axes[1].legend()\n",
    "plt.show()"
   ]
  },
  {
   "cell_type": "markdown",
   "id": "b6097a58-cc17-4341-a6e2-6495e0639595",
   "metadata": {},
   "source": [
    "## Update WM with buffers"
   ]
  },
  {
   "cell_type": "code",
   "execution_count": 12,
   "id": "622fb354-8a80-4943-a340-2497df20df4d",
   "metadata": {},
   "outputs": [
    {
     "data": {
      "application/vdom.v1+json": {
       "attributes": {},
       "tagName": "div"
      },
      "text/html": [
       "\n",
       "                <script>\n",
       "                    if (Jupyter.version.split(\".\")[0] < 5) {\n",
       "                        var pb = document.getElementById(\"5c1d0f64-873e-48b4-b101-4b8879869dfb\");\n",
       "                        var text = document.createTextNode(\n",
       "                            \"HTML progress bar requires Jupyter Notebook >= \" +\n",
       "                            \"5.0 or Jupyter Lab. Alternatively, you can use \" +\n",
       "                            \"TerminalProgressBar().\");\n",
       "                        pb.parentNode.insertBefore(text, pb);\n",
       "                    }\n",
       "                </script>\n",
       "                <div id=\"5c1d0f64-873e-48b4-b101-4b8879869dfb\" style=\"\n",
       "                    width: 100%;\n",
       "                    border: 1px solid #cfcfcf;\n",
       "                    border-radius: 4px;\n",
       "                    text-align: center;\n",
       "                    position: relative;\">\n",
       "                  <div class=\"pb-text\" style=\"\n",
       "                      position: absolute;\n",
       "                      width: 100%;\">\n",
       "                    0%\n",
       "                  </div>\n",
       "                  <div class=\"pb-fill\" style=\"\n",
       "                      background-color: #bdd2e6;\n",
       "                      width: 0%;\">\n",
       "                    <style type=\"text/css\" scoped=\"scoped\">\n",
       "                        @keyframes pb-fill-anim {\n",
       "                            0% { background-position: 0 0; }\n",
       "                            100% { background-position: 100px 0; }\n",
       "                        }\n",
       "                    </style>\n",
       "                    &nbsp;\n",
       "                  </div>\n",
       "                </div>"
      ],
      "text/plain": [
       "HtmlProgressBar cannot be displayed. Please use the TerminalProgressBar. It can be enabled with `nengo.rc['progress']['progress_bar'] = 'nengo.utils.progress.TerminalProgressBar'`."
      ]
     },
     "metadata": {},
     "output_type": "display_data"
    },
    {
     "data": {
      "application/vdom.v1+json": {
       "attributes": {
        "id": "dd7bba22-7024-4eda-ab38-2da53470e709",
        "style": {
         "border": "1px solid #cfcfcf",
         "borderRadius": "4px",
         "boxSizing": "border-box",
         "position": "relative",
         "textAlign": "center",
         "width": "100%"
        }
       },
       "children": [
        {
         "attributes": {
          "class": "pb-text",
          "style": {
           "position": "absolute",
           "width": "100%"
          }
         },
         "children": [
          "Build finished in 0:00:01."
         ],
         "tagName": "div"
        },
        {
         "attributes": {
          "class": "pb-fill",
          "style": {
           "animation": "none",
           "backgroundColor": "#bdd2e6",
           "backgroundImage": "none",
           "backgroundSize": "100px 100%",
           "width": "100%"
          }
         },
         "children": [
          {
           "attributes": {
            "scoped": "scoped",
            "type": "text/css"
           },
           "children": [
            "\n                        @keyframes pb-fill-anim {\n                            0% { background-position: 0 0; }\n                            100% { background-position: 100px 0; }\n                        }}"
           ],
           "tagName": "style"
          },
          " "
         ],
         "tagName": "div"
        }
       ],
       "tagName": "div"
      },
      "text/html": [
       "<script>\n",
       "              (function () {\n",
       "                  var root = document.getElementById('5c1d0f64-873e-48b4-b101-4b8879869dfb');\n",
       "                  var text = root.getElementsByClassName('pb-text')[0];\n",
       "                  var fill = root.getElementsByClassName('pb-fill')[0];\n",
       "\n",
       "                  text.innerHTML = 'Build finished in 0:00:01.';\n",
       "                  \n",
       "            fill.style.width = '100%';\n",
       "            fill.style.animation = 'pb-fill-anim 2s linear infinite';\n",
       "            fill.style.backgroundSize = '100px 100%';\n",
       "            fill.style.backgroundImage = 'repeating-linear-gradient(' +\n",
       "                '90deg, #bdd2e6, #edf2f8 40%, #bdd2e6 80%, #bdd2e6)';\n",
       "        \n",
       "                  \n",
       "                fill.style.animation = 'none';\n",
       "                fill.style.backgroundImage = 'none';\n",
       "            \n",
       "              })();\n",
       "        </script>"
      ]
     },
     "metadata": {},
     "output_type": "display_data"
    },
    {
     "data": {
      "application/vdom.v1+json": {
       "attributes": {},
       "tagName": "div"
      },
      "text/html": [
       "\n",
       "                <script>\n",
       "                    if (Jupyter.version.split(\".\")[0] < 5) {\n",
       "                        var pb = document.getElementById(\"5777ad5c-7c79-4d08-b9ac-5f3822d4c3c1\");\n",
       "                        var text = document.createTextNode(\n",
       "                            \"HTML progress bar requires Jupyter Notebook >= \" +\n",
       "                            \"5.0 or Jupyter Lab. Alternatively, you can use \" +\n",
       "                            \"TerminalProgressBar().\");\n",
       "                        pb.parentNode.insertBefore(text, pb);\n",
       "                    }\n",
       "                </script>\n",
       "                <div id=\"5777ad5c-7c79-4d08-b9ac-5f3822d4c3c1\" style=\"\n",
       "                    width: 100%;\n",
       "                    border: 1px solid #cfcfcf;\n",
       "                    border-radius: 4px;\n",
       "                    text-align: center;\n",
       "                    position: relative;\">\n",
       "                  <div class=\"pb-text\" style=\"\n",
       "                      position: absolute;\n",
       "                      width: 100%;\">\n",
       "                    0%\n",
       "                  </div>\n",
       "                  <div class=\"pb-fill\" style=\"\n",
       "                      background-color: #bdd2e6;\n",
       "                      width: 0%;\">\n",
       "                    <style type=\"text/css\" scoped=\"scoped\">\n",
       "                        @keyframes pb-fill-anim {\n",
       "                            0% { background-position: 0 0; }\n",
       "                            100% { background-position: 100px 0; }\n",
       "                        }\n",
       "                    </style>\n",
       "                    &nbsp;\n",
       "                  </div>\n",
       "                </div>"
      ],
      "text/plain": [
       "HtmlProgressBar cannot be displayed. Please use the TerminalProgressBar. It can be enabled with `nengo.rc['progress']['progress_bar'] = 'nengo.utils.progress.TerminalProgressBar'`."
      ]
     },
     "metadata": {},
     "output_type": "display_data"
    },
    {
     "data": {
      "application/vdom.v1+json": {
       "attributes": {
        "id": "9906c28b-54cf-4249-b814-0179a17e98e8",
        "style": {
         "border": "1px solid #cfcfcf",
         "borderRadius": "4px",
         "boxSizing": "border-box",
         "position": "relative",
         "textAlign": "center",
         "width": "100%"
        }
       },
       "children": [
        {
         "attributes": {
          "class": "pb-text",
          "style": {
           "position": "absolute",
           "width": "100%"
          }
         },
         "children": [
          "Simulation finished in 0:00:03."
         ],
         "tagName": "div"
        },
        {
         "attributes": {
          "class": "pb-fill",
          "style": {
           "animation": "none",
           "backgroundColor": "#bdd2e6",
           "backgroundImage": "none",
           "transition": "width 0.1s linear",
           "width": "100%"
          }
         },
         "children": [
          {
           "attributes": {
            "scoped": "scoped",
            "type": "text/css"
           },
           "children": [
            "\n                        @keyframes pb-fill-anim {\n                            0% { background-position: 0 0; }\n                            100% { background-position: 100px 0; }\n                        }}"
           ],
           "tagName": "style"
          },
          " "
         ],
         "tagName": "div"
        }
       ],
       "tagName": "div"
      },
      "text/html": [
       "<script>\n",
       "              (function () {\n",
       "                  var root = document.getElementById('5777ad5c-7c79-4d08-b9ac-5f3822d4c3c1');\n",
       "                  var text = root.getElementsByClassName('pb-text')[0];\n",
       "                  var fill = root.getElementsByClassName('pb-fill')[0];\n",
       "\n",
       "                  text.innerHTML = 'Simulation finished in 0:00:03.';\n",
       "                  \n",
       "            if (100.0 > 0.) {\n",
       "                fill.style.transition = 'width 0.1s linear';\n",
       "            } else {\n",
       "                fill.style.transition = 'none';\n",
       "            }\n",
       "\n",
       "            fill.style.width = '100.0%';\n",
       "            fill.style.animation = 'none';\n",
       "            fill.style.backgroundImage = 'none'\n",
       "        \n",
       "                  \n",
       "                fill.style.animation = 'none';\n",
       "                fill.style.backgroundImage = 'none';\n",
       "            \n",
       "              })();\n",
       "        </script>"
      ]
     },
     "metadata": {},
     "output_type": "display_data"
    },
    {
     "data": {
      "image/png": "[encoded data removed]",
      "text/plain": [
       "<Figure size 640x480 with 2 Axes>"
      ]
     },
     "metadata": {},
     "output_type": "display_data"
    }
   ],
   "source": [
    "rng = np.random.RandomState(seed=5)\n",
    "t_show = 1.0\n",
    "t_buffer = 1.0\n",
    "T = t_show + t_buffer\n",
    "stimuli3 = [1 if rng.rand()<0.5 else -1 for i in range(11)]\n",
    "\n",
    "func_stim3 = lambda t: stimuli3[int(t/T)] if t%T<t_show else 0\n",
    "func_stop = lambda t: 0 if t%T<t_show else 1\n",
    "func_number = lambda t: int(t/T)+1\n",
    "func_multiply = lambda x: x[0]*x[1]\n",
    "func_inverse = lambda x: 1/x if x>0 else 1\n",
    "func_cumavg = lambda t: np.sum(stimuli3[:int(t/T)+1])/(int(t/T)+1)\n",
    "\n",
    "w_stop = -10*np.ones((1000, 1))\n",
    "\n",
    "network = nengo.Network(seed=0)\n",
    "with network:\n",
    "    node_stim = nengo.Node(func_stim3)\n",
    "    node_stop = nengo.Node(func_stop)\n",
    "    node_number = nengo.Node(func_number)\n",
    "    node_inverse = nengo.Ensemble(1, 1, neuron_type=nengo.Direct())\n",
    "    node_cumavg = nengo.Node(func_cumavg)\n",
    "\n",
    "    ens_stim = nengo.Ensemble(1000, 1)\n",
    "    # ens_d1 = nengo.Ensemble(1000, 1)\n",
    "    ens_d1 = nengo.Ensemble(2000, 2, radius=3)\n",
    "    ens_d2 = nengo.Ensemble(1000, 1)\n",
    "    ens_d3 = nengo.Ensemble(1000, 1)\n",
    "    ens_memory = nengo.Ensemble(1000, 1)\n",
    "    ens_old = nengo.Ensemble(1000, 1)\n",
    "    ens_stop = nengo.Ensemble(1000, 1)\n",
    "\n",
    "    nengo.Connection(node_stim, ens_stim, synapse=None)\n",
    "    nengo.Connection(node_stop, ens_stop, synapse=None)\n",
    "    nengo.Connection(node_number, node_inverse, function=func_inverse)\n",
    "\n",
    "    nengo.Connection(ens_stim, ens_d1[0], synapse=0.01)\n",
    "    nengo.Connection(node_inverse, ens_d1[1], synapse=0.01)\n",
    "    nengo.Connection(ens_d1, ens_d2, synapse=0.01, function=func_multiply)\n",
    "    nengo.Connection(ens_old, ens_d1[0], synapse=0.01, transform=-1)\n",
    "\n",
    "    nengo.Connection(ens_d2, ens_memory, synapse=0.01, transform=3)\n",
    "    nengo.Connection(ens_memory, ens_memory, synapse=0.1)\n",
    "    nengo.Connection(ens_memory, ens_d2, synapse=0.01, transform=-1)\n",
    "    nengo.Connection(ens_old, ens_d2, synapse=0.01)\n",
    "\n",
    "    nengo.Connection(ens_memory, ens_d3, synapse=0.01)\n",
    "    nengo.Connection(ens_d3, ens_old, synapse=0.01, transform=3)\n",
    "    nengo.Connection(ens_old, ens_d3, synapse=0.01, transform=-1)\n",
    "    nengo.Connection(ens_old, ens_old, synapse=0.1)\n",
    "    \n",
    "    nengo.Connection(node_stop, ens_d2.neurons, synapse=0.01, transform=w_stop)\n",
    "    nengo.Connection(node_stop, ens_d3.neurons, synapse=0.01, transform=w_stop, function=lambda x: 1-x)\n",
    "\n",
    "    probe_stim = nengo.Probe(ens_stim, synapse=0.01)\n",
    "    probe_stop = nengo.Probe(ens_stop, synapse=0.01)\n",
    "    probe_d1 = nengo.Probe(ens_d1, synapse=0.01)\n",
    "    probe_d2 = nengo.Probe(ens_d2, synapse=0.01)\n",
    "    probe_d3 = nengo.Probe(ens_d3, synapse=0.01)\n",
    "    probe_memory = nengo.Probe(ens_memory, synapse=0.01)\n",
    "    probe_old = nengo.Probe(ens_old, synapse=0.01)\n",
    "    probe_cumavg_p = nengo.Probe(node_cumavg, synapse=0.03)\n",
    "\n",
    "with nengo.Simulator(network) as sim:\n",
    "    sim.run(T*5)\n",
    "\n",
    "fig, axes = plt.subplots(nrows=2, sharex=True, sharey=False)\n",
    "axes[0].plot(sim.trange(), sim.data[probe_stim], label='stimulus')\n",
    "# axes[0].plot(sim.trange(), 0.2*sim.data[probe_stop], label='stop')\n",
    "axes[0].plot(sim.trange(), sim.data[probe_memory], label='memory')\n",
    "axes[0].plot(sim.trange(), sim.data[probe_old], label='old')\n",
    "axes[0].plot(sim.trange(), sim.data[probe_cumavg_p], label='cumulative average')\n",
    "axes[1].plot(sim.trange(), sim.data[probe_d1][:,0], label='d1')\n",
    "axes[1].plot(sim.trange(), sim.data[probe_d1][:,1], label='weight')\n",
    "axes[1].plot(sim.trange(), sim.data[probe_d2], label='d2')\n",
    "axes[1].plot(sim.trange(), sim.data[probe_d3], label='d3')\n",
    "axes[0].legend()\n",
    "axes[1].legend()\n",
    "# axes[2].legend()\n",
    "plt.show()"
   ]
  },
  {
   "cell_type": "markdown",
   "id": "529cbacb-2de6-484d-8ad8-19cf9cd67363",
   "metadata": {},
   "source": [
    "## Put it all together\n",
    "#### Count up, calculate 1/N from result, and use 1/N as weight\n",
    "#### Also add inhibitory populations to stop update during buffer phase, \n",
    "#### And an external input for additive weight from RD"
   ]
  },
  {
   "cell_type": "code",
   "execution_count": 67,
   "id": "82c76684-f24f-40bc-bca8-60d18c52a835",
   "metadata": {},
   "outputs": [
    {
     "data": {
      "application/vdom.v1+json": {
       "attributes": {},
       "tagName": "div"
      },
      "text/html": [
       "\n",
       "                <script>\n",
       "                    if (Jupyter.version.split(\".\")[0] < 5) {\n",
       "                        var pb = document.getElementById(\"d22d6340-72ac-40f5-b144-ebe59916949e\");\n",
       "                        var text = document.createTextNode(\n",
       "                            \"HTML progress bar requires Jupyter Notebook >= \" +\n",
       "                            \"5.0 or Jupyter Lab. Alternatively, you can use \" +\n",
       "                            \"TerminalProgressBar().\");\n",
       "                        pb.parentNode.insertBefore(text, pb);\n",
       "                    }\n",
       "                </script>\n",
       "                <div id=\"d22d6340-72ac-40f5-b144-ebe59916949e\" style=\"\n",
       "                    width: 100%;\n",
       "                    border: 1px solid #cfcfcf;\n",
       "                    border-radius: 4px;\n",
       "                    text-align: center;\n",
       "                    position: relative;\">\n",
       "                  <div class=\"pb-text\" style=\"\n",
       "                      position: absolute;\n",
       "                      width: 100%;\">\n",
       "                    0%\n",
       "                  </div>\n",
       "                  <div class=\"pb-fill\" style=\"\n",
       "                      background-color: #bdd2e6;\n",
       "                      width: 0%;\">\n",
       "                    <style type=\"text/css\" scoped=\"scoped\">\n",
       "                        @keyframes pb-fill-anim {\n",
       "                            0% { background-position: 0 0; }\n",
       "                            100% { background-position: 100px 0; }\n",
       "                        }\n",
       "                    </style>\n",
       "                    &nbsp;\n",
       "                  </div>\n",
       "                </div>"
      ],
      "text/plain": [
       "HtmlProgressBar cannot be displayed. Please use the TerminalProgressBar. It can be enabled with `nengo.rc['progress']['progress_bar'] = 'nengo.utils.progress.TerminalProgressBar'`."
      ]
     },
     "metadata": {},
     "output_type": "display_data"
    },
    {
     "data": {
      "application/vdom.v1+json": {
       "attributes": {
        "id": "95db27fc-f33b-426d-84a1-8811571fdb11",
        "style": {
         "border": "1px solid #cfcfcf",
         "borderRadius": "4px",
         "boxSizing": "border-box",
         "position": "relative",
         "textAlign": "center",
         "width": "100%"
        }
       },
       "children": [
        {
         "attributes": {
          "class": "pb-text",
          "style": {
           "position": "absolute",
           "width": "100%"
          }
         },
         "children": [
          "Build finished in 0:00:01."
         ],
         "tagName": "div"
        },
        {
         "attributes": {
          "class": "pb-fill",
          "style": {
           "animation": "none",
           "backgroundColor": "#bdd2e6",
           "backgroundImage": "none",
           "backgroundSize": "100px 100%",
           "width": "100%"
          }
         },
         "children": [
          {
           "attributes": {
            "scoped": "scoped",
            "type": "text/css"
           },
           "children": [
            "\n                        @keyframes pb-fill-anim {\n                            0% { background-position: 0 0; }\n                            100% { background-position: 100px 0; }\n                        }}"
           ],
           "tagName": "style"
          },
          " "
         ],
         "tagName": "div"
        }
       ],
       "tagName": "div"
      },
      "text/html": [
       "<script>\n",
       "              (function () {\n",
       "                  var root = document.getElementById('d22d6340-72ac-40f5-b144-ebe59916949e');\n",
       "                  var text = root.getElementsByClassName('pb-text')[0];\n",
       "                  var fill = root.getElementsByClassName('pb-fill')[0];\n",
       "\n",
       "                  text.innerHTML = 'Build finished in 0:00:01.';\n",
       "                  \n",
       "            fill.style.width = '100%';\n",
       "            fill.style.animation = 'pb-fill-anim 2s linear infinite';\n",
       "            fill.style.backgroundSize = '100px 100%';\n",
       "            fill.style.backgroundImage = 'repeating-linear-gradient(' +\n",
       "                '90deg, #bdd2e6, #edf2f8 40%, #bdd2e6 80%, #bdd2e6)';\n",
       "        \n",
       "                  \n",
       "                fill.style.animation = 'none';\n",
       "                fill.style.backgroundImage = 'none';\n",
       "            \n",
       "              })();\n",
       "        </script>"
      ]
     },
     "metadata": {},
     "output_type": "display_data"
    },
    {
     "data": {
      "application/vdom.v1+json": {
       "attributes": {},
       "tagName": "div"
      },
      "text/html": [
       "\n",
       "                <script>\n",
       "                    if (Jupyter.version.split(\".\")[0] < 5) {\n",
       "                        var pb = document.getElementById(\"518f511d-1b54-46de-99b9-643213860c60\");\n",
       "                        var text = document.createTextNode(\n",
       "                            \"HTML progress bar requires Jupyter Notebook >= \" +\n",
       "                            \"5.0 or Jupyter Lab. Alternatively, you can use \" +\n",
       "                            \"TerminalProgressBar().\");\n",
       "                        pb.parentNode.insertBefore(text, pb);\n",
       "                    }\n",
       "                </script>\n",
       "                <div id=\"518f511d-1b54-46de-99b9-643213860c60\" style=\"\n",
       "                    width: 100%;\n",
       "                    border: 1px solid #cfcfcf;\n",
       "                    border-radius: 4px;\n",
       "                    text-align: center;\n",
       "                    position: relative;\">\n",
       "                  <div class=\"pb-text\" style=\"\n",
       "                      position: absolute;\n",
       "                      width: 100%;\">\n",
       "                    0%\n",
       "                  </div>\n",
       "                  <div class=\"pb-fill\" style=\"\n",
       "                      background-color: #bdd2e6;\n",
       "                      width: 0%;\">\n",
       "                    <style type=\"text/css\" scoped=\"scoped\">\n",
       "                        @keyframes pb-fill-anim {\n",
       "                            0% { background-position: 0 0; }\n",
       "                            100% { background-position: 100px 0; }\n",
       "                        }\n",
       "                    </style>\n",
       "                    &nbsp;\n",
       "                  </div>\n",
       "                </div>"
      ],
      "text/plain": [
       "HtmlProgressBar cannot be displayed. Please use the TerminalProgressBar. It can be enabled with `nengo.rc['progress']['progress_bar'] = 'nengo.utils.progress.TerminalProgressBar'`."
      ]
     },
     "metadata": {},
     "output_type": "display_data"
    },
    {
     "data": {
      "application/vdom.v1+json": {
       "attributes": {
        "id": "a682e2ed-0271-4b55-a30e-79397e9a4a59",
        "style": {
         "border": "1px solid #cfcfcf",
         "borderRadius": "4px",
         "boxSizing": "border-box",
         "position": "relative",
         "textAlign": "center",
         "width": "100%"
        }
       },
       "children": [
        {
         "attributes": {
          "class": "pb-text",
          "style": {
           "position": "absolute",
           "width": "100%"
          }
         },
         "children": [
          "Simulation finished in 0:00:10."
         ],
         "tagName": "div"
        },
        {
         "attributes": {
          "class": "pb-fill",
          "style": {
           "animation": "none",
           "backgroundColor": "#bdd2e6",
           "backgroundImage": "none",
           "transition": "width 0.1s linear",
           "width": "100%"
          }
         },
         "children": [
          {
           "attributes": {
            "scoped": "scoped",
            "type": "text/css"
           },
           "children": [
            "\n                        @keyframes pb-fill-anim {\n                            0% { background-position: 0 0; }\n                            100% { background-position: 100px 0; }\n                        }}"
           ],
           "tagName": "style"
          },
          " "
         ],
         "tagName": "div"
        }
       ],
       "tagName": "div"
      },
      "text/html": [
       "<script>\n",
       "              (function () {\n",
       "                  var root = document.getElementById('518f511d-1b54-46de-99b9-643213860c60');\n",
       "                  var text = root.getElementsByClassName('pb-text')[0];\n",
       "                  var fill = root.getElementsByClassName('pb-fill')[0];\n",
       "\n",
       "                  text.innerHTML = 'Simulation finished in 0:00:10.';\n",
       "                  \n",
       "            if (100.0 > 0.) {\n",
       "                fill.style.transition = 'width 0.1s linear';\n",
       "            } else {\n",
       "                fill.style.transition = 'none';\n",
       "            }\n",
       "\n",
       "            fill.style.width = '100.0%';\n",
       "            fill.style.animation = 'none';\n",
       "            fill.style.backgroundImage = 'none'\n",
       "        \n",
       "                  \n",
       "                fill.style.animation = 'none';\n",
       "                fill.style.backgroundImage = 'none';\n",
       "            \n",
       "              })();\n",
       "        </script>"
      ]
     },
     "metadata": {},
     "output_type": "display_data"
    },
    {
     "data": {
      "image/png": "[encoded data removed]",
      "text/plain": [
       "<Figure size 640x480 with 3 Axes>"
      ]
     },
     "metadata": {},
     "output_type": "display_data"
    }
   ],
   "source": [
    "seed = 6\n",
    "rng = np.random.RandomState(seed=seed)\n",
    "network = nengo.Network(seed=seed)\n",
    "\n",
    "t_show = 1.0\n",
    "t_buffer = 1.0\n",
    "T = t_show + t_buffer\n",
    "stimuli3 = [1 if rng.rand()<0.5 else -1 for i in range(11)]\n",
    "degree = 0.0\n",
    "\n",
    "encoders = nengo.dists.Choice([[1]])\n",
    "intercepts = nengo.dists.Uniform(0.0, 1)\n",
    "eval_points = np.linspace(-1, 1, 1000).reshape(-1,1)\n",
    "\n",
    "func_stim3 = lambda t: stimuli3[int(t/T)] if t%T<t_show else 0\n",
    "func_number = lambda t: int(t/T)+1\n",
    "func_multiply = lambda x: x[0]*x[1]\n",
    "func_inverse = lambda x: 1/(x+10)\n",
    "func_center = lambda x: x-10\n",
    "func_stop2 = lambda x: 0 if np.abs(x)>0.1 else 1\n",
    "func_stop3 = lambda x: 1 if np.abs(x)>0.1 else 0\n",
    "func_inverse_p = lambda x: 1/x if x>0 else 1\n",
    "func_cumavg = lambda t: np.sum(stimuli3[:int(t/T)+1])/(int(t/T)+1)\n",
    "func_degree = lambda t: degree\n",
    "\n",
    "w_stop = -10*np.ones((1000, 1))\n",
    "\n",
    "with network:\n",
    "    # inputs\n",
    "    node_stim = nengo.Node(func_stim3)\n",
    "    node_degree = nengo.Node(func_degree)\n",
    "    \n",
    "    # neural populations\n",
    "    ens_stim = nengo.Ensemble(1000, 1)\n",
    "    ens_differentiator = nengo.Ensemble(1000, 1, encoders=encoders, intercepts=intercepts)\n",
    "    ens_number_memory = nengo.Ensemble(2000, 1)\n",
    "    ens_number = nengo.Ensemble(1000, 1, radius=20)\n",
    "    ens_centered = nengo.Ensemble(1000, 1, radius=11)\n",
    "    ens_weight = nengo.Ensemble(1000, 1, radius=0.9)\n",
    "    ens_degree = nengo.Ensemble(1000, 1)\n",
    "    ens_d1 = nengo.Ensemble(2000, 2, radius=3)\n",
    "    ens_d2 = nengo.Ensemble(1000, 1)\n",
    "    ens_d3 = nengo.Ensemble(1000, 1)\n",
    "    ens_memory = nengo.Ensemble(1000, 1)\n",
    "    ens_old = nengo.Ensemble(1000, 1)\n",
    "    ens_stop2 = nengo.Ensemble(1000, 1, encoders=encoders, intercepts=intercepts)\n",
    "    ens_stop3 = nengo.Ensemble(1000, 1, encoders=encoders, intercepts=intercepts)\n",
    "\n",
    "    # input signals\n",
    "    nengo.Connection(node_stim, ens_stim, synapse=None)\n",
    "    nengo.Connection(node_degree, ens_degree, synapse=None)\n",
    "    \n",
    "    # count up based on changes in the input signals\n",
    "    nengo.Connection(ens_stim, ens_differentiator, synapse=0.01, function=lambda x: 2*np.abs(x))\n",
    "    nengo.Connection(ens_stim, ens_differentiator, synapse=0.1, function=lambda x: -2*np.abs(x))\n",
    "    nengo.Connection(ens_differentiator, ens_number_memory, synapse=0.2, transform=0.05)\n",
    "    nengo.Connection(ens_number_memory, ens_number_memory, synapse=0.2)\n",
    "    nengo.Connection(ens_number_memory, ens_number, transform=25, synapse=0.1)\n",
    "\n",
    "    # compute weight = 1/N from number memory\n",
    "    nengo.Connection(ens_number, ens_centered, synapse=0.01, function=func_center)\n",
    "    nengo.Connection(ens_centered, ens_weight, synapse=0.03, function=func_inverse, eval_points=eval_points)\n",
    "    # nengo.Connection(node_weight, ens_weight, synapse=0.01)\n",
    "\n",
    "    # compute error between current observation and WM value stored in \"old\" buffer  \n",
    "    # then pass that error, times the current weight, to D2\n",
    "    # also add degree into current weight, as represented in D1\n",
    "    nengo.Connection(ens_stim, ens_d1[0], synapse=0.01)\n",
    "    nengo.Connection(ens_weight, ens_d1[1], synapse=0.01)\n",
    "    nengo.Connection(ens_d1, ens_d2, synapse=0.01, function=func_multiply)\n",
    "    nengo.Connection(ens_old, ens_d1[0], synapse=0.01, transform=-1)\n",
    "    nengo.Connection(ens_degree, ens_d1[1], synapse=0.01)\n",
    "    \n",
    "    # update the WM value stored in the \"memory\" buffer according to the error passed to D2\n",
    "    # and the stable WM value stored in the \"old\" buffer\n",
    "    nengo.Connection(ens_d2, ens_memory, synapse=0.01, transform=3)\n",
    "    nengo.Connection(ens_memory, ens_memory, synapse=0.1)\n",
    "    nengo.Connection(ens_memory, ens_d2, synapse=0.01, transform=-1)\n",
    "    nengo.Connection(ens_old, ens_d2, synapse=0.01)\n",
    "\n",
    "    # update the value in \"old\" to the value in \"memory\" \n",
    "    nengo.Connection(ens_memory, ens_d3, synapse=0.01)\n",
    "    nengo.Connection(ens_d3, ens_old, synapse=0.01, transform=3)\n",
    "    nengo.Connection(ens_old, ens_d3, synapse=0.01, transform=-1)\n",
    "    nengo.Connection(ens_old, ens_old, synapse=0.1)\n",
    "\n",
    "    # alternatively updates \"memory\" and \"old\":\n",
    "    # the former is updated while the simulus is present,\n",
    "    # and the latter is updated during the inter-stimulus interval\n",
    "    nengo.Connection(ens_stim, ens_stop2, synapse=0.01, function=func_stop2)\n",
    "    nengo.Connection(ens_stim, ens_stop3, synapse=0.01, function=func_stop3)\n",
    "    nengo.Connection(ens_stop2, ens_d2.neurons, synapse=0.01, transform=w_stop)\n",
    "    nengo.Connection(ens_stop3, ens_d3.neurons, synapse=0.01, transform=w_stop)\n",
    "\n",
    "    # probes to decode neural activity into represented quantities\n",
    "    probe_stim = nengo.Probe(ens_stim, synapse=0.01)\n",
    "    probe_stop2 = nengo.Probe(ens_stop2, synapse=0.01)\n",
    "    probe_stop3 = nengo.Probe(ens_stop3, synapse=0.01)\n",
    "    probe_weight = nengo.Probe(ens_weight, synapse=0.01)\n",
    "    probe_d1 = nengo.Probe(ens_d1, synapse=0.01)\n",
    "    probe_d2 = nengo.Probe(ens_d2, synapse=0.01)\n",
    "    probe_d3 = nengo.Probe(ens_d3, synapse=0.01)\n",
    "    probe_memory = nengo.Probe(ens_memory, synapse=0.01)\n",
    "    probe_old = nengo.Probe(ens_old, synapse=0.01)\n",
    "\n",
    "    # ground truth calculation, for comparison\n",
    "    node_number = nengo.Node(func_number)\n",
    "    node_weight = nengo.Ensemble(1, 1, neuron_type=nengo.Direct())\n",
    "    node_cumavg = nengo.Node(func_cumavg)\n",
    "    nengo.Connection(node_number, node_weight, function=func_inverse_p)\n",
    "    probe_cumavg_p = nengo.Probe(node_cumavg, synapse=0.03)\n",
    "    probe_weight_p = nengo.Probe(node_weight, synapse=0.01)\n",
    "\n",
    "with nengo.Simulator(network) as sim:\n",
    "    sim.run(T*5)\n",
    "\n",
    "fig, axes = plt.subplots(nrows=3, sharex=True, sharey=False)\n",
    "axes[0].plot(sim.trange(), sim.data[probe_stim], label='stimulus')\n",
    "# axes[0].plot(sim.trange(), 0.2*sim.data[probe_stop], label='stop')\n",
    "axes[0].plot(sim.trange(), sim.data[probe_memory], label='memory')\n",
    "# axes[0].plot(sim.trange(), sim.data[probe_old], label='old')\n",
    "axes[0].plot(sim.trange(), sim.data[probe_cumavg_p], label='cumulative average')\n",
    "axes[1].plot(sim.trange(), sim.data[probe_weight_p], label='1/N')\n",
    "axes[1].plot(sim.trange(), sim.data[probe_weight], label='weight')\n",
    "axes[1].plot(sim.trange(), sim.data[probe_d1][:,1], label='weight+degree')\n",
    "axes[2].plot(sim.trange(), sim.data[probe_d2], label='d2')\n",
    "axes[2].plot(sim.trange(), sim.data[probe_d3], label='d3')\n",
    "axes[0].legend()\n",
    "axes[1].legend()\n",
    "axes[2].legend()\n",
    "plt.show()"
   ]
  },
  {
   "cell_type": "markdown",
   "id": "56671597-87c1-474e-b21c-bb1db8db6996",
   "metadata": {},
   "source": [
    "## Check WM2.py version is working"
   ]
  },
  {
   "cell_type": "code",
   "execution_count": 6,
   "id": "426db488-92f7-4308-aa41-33fba58a08f6",
   "metadata": {},
   "outputs": [
    {
     "data": {
      "application/vdom.v1+json": {
       "attributes": {},
       "tagName": "div"
      },
      "text/html": [
       "\n",
       "                <script>\n",
       "                    if (Jupyter.version.split(\".\")[0] < 5) {\n",
       "                        var pb = document.getElementById(\"8a68c865-000b-48d5-9751-f311ddd74e41\");\n",
       "                        var text = document.createTextNode(\n",
       "                            \"HTML progress bar requires Jupyter Notebook >= \" +\n",
       "                            \"5.0 or Jupyter Lab. Alternatively, you can use \" +\n",
       "                            \"TerminalProgressBar().\");\n",
       "                        pb.parentNode.insertBefore(text, pb);\n",
       "                    }\n",
       "                </script>\n",
       "                <div id=\"8a68c865-000b-48d5-9751-f311ddd74e41\" style=\"\n",
       "                    width: 100%;\n",
       "                    border: 1px solid #cfcfcf;\n",
       "                    border-radius: 4px;\n",
       "                    text-align: center;\n",
       "                    position: relative;\">\n",
       "                  <div class=\"pb-text\" style=\"\n",
       "                      position: absolute;\n",
       "                      width: 100%;\">\n",
       "                    0%\n",
       "                  </div>\n",
       "                  <div class=\"pb-fill\" style=\"\n",
       "                      background-color: #bdd2e6;\n",
       "                      width: 0%;\">\n",
       "                    <style type=\"text/css\" scoped=\"scoped\">\n",
       "                        @keyframes pb-fill-anim {\n",
       "                            0% { background-position: 0 0; }\n",
       "                            100% { background-position: 100px 0; }\n",
       "                        }\n",
       "                    </style>\n",
       "                    &nbsp;\n",
       "                  </div>\n",
       "                </div>"
      ],
      "text/plain": [
       "HtmlProgressBar cannot be displayed. Please use the TerminalProgressBar. It can be enabled with `nengo.rc['progress']['progress_bar'] = 'nengo.utils.progress.TerminalProgressBar'`."
      ]
     },
     "metadata": {},
     "output_type": "display_data"
    },
    {
     "data": {
      "application/vdom.v1+json": {
       "attributes": {
        "id": "552b38a7-7536-42ae-a055-2d1644579b9d",
        "style": {
         "border": "1px solid #cfcfcf",
         "borderRadius": "4px",
         "boxSizing": "border-box",
         "position": "relative",
         "textAlign": "center",
         "width": "100%"
        }
       },
       "children": [
        {
         "attributes": {
          "class": "pb-text",
          "style": {
           "position": "absolute",
           "width": "100%"
          }
         },
         "children": [
          "Build finished in 0:00:06."
         ],
         "tagName": "div"
        },
        {
         "attributes": {
          "class": "pb-fill",
          "style": {
           "animation": "none",
           "backgroundColor": "#bdd2e6",
           "backgroundImage": "none",
           "backgroundSize": "100px 100%",
           "width": "100%"
          }
         },
         "children": [
          {
           "attributes": {
            "scoped": "scoped",
            "type": "text/css"
           },
           "children": [
            "\n                        @keyframes pb-fill-anim {\n                            0% { background-position: 0 0; }\n                            100% { background-position: 100px 0; }\n                        }}"
           ],
           "tagName": "style"
          },
          " "
         ],
         "tagName": "div"
        }
       ],
       "tagName": "div"
      },
      "text/html": [
       "<script>\n",
       "              (function () {\n",
       "                  var root = document.getElementById('8a68c865-000b-48d5-9751-f311ddd74e41');\n",
       "                  var text = root.getElementsByClassName('pb-text')[0];\n",
       "                  var fill = root.getElementsByClassName('pb-fill')[0];\n",
       "\n",
       "                  text.innerHTML = 'Build finished in 0:00:06.';\n",
       "                  \n",
       "            fill.style.width = '100%';\n",
       "            fill.style.animation = 'pb-fill-anim 2s linear infinite';\n",
       "            fill.style.backgroundSize = '100px 100%';\n",
       "            fill.style.backgroundImage = 'repeating-linear-gradient(' +\n",
       "                '90deg, #bdd2e6, #edf2f8 40%, #bdd2e6 80%, #bdd2e6)';\n",
       "        \n",
       "                  \n",
       "                fill.style.animation = 'none';\n",
       "                fill.style.backgroundImage = 'none';\n",
       "            \n",
       "              })();\n",
       "        </script>"
      ]
     },
     "metadata": {},
     "output_type": "display_data"
    },
    {
     "data": {
      "application/vdom.v1+json": {
       "attributes": {},
       "tagName": "div"
      },
      "text/html": [
       "\n",
       "                <script>\n",
       "                    if (Jupyter.version.split(\".\")[0] < 5) {\n",
       "                        var pb = document.getElementById(\"4446910e-e7d7-4620-ac64-901f6b7f4e2c\");\n",
       "                        var text = document.createTextNode(\n",
       "                            \"HTML progress bar requires Jupyter Notebook >= \" +\n",
       "                            \"5.0 or Jupyter Lab. Alternatively, you can use \" +\n",
       "                            \"TerminalProgressBar().\");\n",
       "                        pb.parentNode.insertBefore(text, pb);\n",
       "                    }\n",
       "                </script>\n",
       "                <div id=\"4446910e-e7d7-4620-ac64-901f6b7f4e2c\" style=\"\n",
       "                    width: 100%;\n",
       "                    border: 1px solid #cfcfcf;\n",
       "                    border-radius: 4px;\n",
       "                    text-align: center;\n",
       "                    position: relative;\">\n",
       "                  <div class=\"pb-text\" style=\"\n",
       "                      position: absolute;\n",
       "                      width: 100%;\">\n",
       "                    0%\n",
       "                  </div>\n",
       "                  <div class=\"pb-fill\" style=\"\n",
       "                      background-color: #bdd2e6;\n",
       "                      width: 0%;\">\n",
       "                    <style type=\"text/css\" scoped=\"scoped\">\n",
       "                        @keyframes pb-fill-anim {\n",
       "                            0% { background-position: 0 0; }\n",
       "                            100% { background-position: 100px 0; }\n",
       "                        }\n",
       "                    </style>\n",
       "                    &nbsp;\n",
       "                  </div>\n",
       "                </div>"
      ],
      "text/plain": [
       "HtmlProgressBar cannot be displayed. Please use the TerminalProgressBar. It can be enabled with `nengo.rc['progress']['progress_bar'] = 'nengo.utils.progress.TerminalProgressBar'`."
      ]
     },
     "metadata": {},
     "output_type": "display_data"
    },
    {
     "data": {
      "application/vdom.v1+json": {
       "attributes": {
        "id": "fd63eed8-488f-4de9-888d-427e82d1542a",
        "style": {
         "border": "1px solid #cfcfcf",
         "borderRadius": "4px",
         "boxSizing": "border-box",
         "position": "relative",
         "textAlign": "center",
         "width": "100%"
        }
       },
       "children": [
        {
         "attributes": {
          "class": "pb-text",
          "style": {
           "position": "absolute",
           "width": "100%"
          }
         },
         "children": [
          "Simulation finished in 0:00:15."
         ],
         "tagName": "div"
        },
        {
         "attributes": {
          "class": "pb-fill",
          "style": {
           "animation": "none",
           "backgroundColor": "#bdd2e6",
           "backgroundImage": "none",
           "transition": "width 0.1s linear",
           "width": "100%"
          }
         },
         "children": [
          {
           "attributes": {
            "scoped": "scoped",
            "type": "text/css"
           },
           "children": [
            "\n                        @keyframes pb-fill-anim {\n                            0% { background-position: 0 0; }\n                            100% { background-position: 100px 0; }\n                        }}"
           ],
           "tagName": "style"
          },
          " "
         ],
         "tagName": "div"
        }
       ],
       "tagName": "div"
      },
      "text/html": [
       "<script>\n",
       "              (function () {\n",
       "                  var root = document.getElementById('4446910e-e7d7-4620-ac64-901f6b7f4e2c');\n",
       "                  var text = root.getElementsByClassName('pb-text')[0];\n",
       "                  var fill = root.getElementsByClassName('pb-fill')[0];\n",
       "\n",
       "                  text.innerHTML = 'Simulation finished in 0:00:15.';\n",
       "                  \n",
       "            if (100.0 > 0.) {\n",
       "                fill.style.transition = 'width 0.1s linear';\n",
       "            } else {\n",
       "                fill.style.transition = 'none';\n",
       "            }\n",
       "\n",
       "            fill.style.width = '100.0%';\n",
       "            fill.style.animation = 'none';\n",
       "            fill.style.backgroundImage = 'none'\n",
       "        \n",
       "                  \n",
       "                fill.style.animation = 'none';\n",
       "                fill.style.backgroundImage = 'none';\n",
       "            \n",
       "              })();\n",
       "        </script>"
      ]
     },
     "metadata": {},
     "output_type": "display_data"
    }
   ],
   "source": [
    "env = Environment(sid=1, trial=1)\n",
    "net, sim = simulate_WM(env, z=0.3, seed_sim=0, seed_net=0, progress_bar=True)"
   ]
  },
  {
   "cell_type": "code",
   "execution_count": 9,
   "id": "d29a8da2-b1e1-46a6-b085-247c6025f76d",
   "metadata": {},
   "outputs": [
    {
     "data": {
      "image/png": "[encoded data removed]",
      "text/plain": [
       "<Figure size 640x480 with 2 Axes>"
      ]
     },
     "metadata": {},
     "output_type": "display_data"
    }
   ],
   "source": [
    "fig, axes = plt.subplots(nrows=2, sharex=True, sharey=False)\n",
    "axes[0].plot(sim.trange(), sim.data[net.probe_stim], label='stimulus')\n",
    "axes[0].plot(sim.trange(), sim.data[net.probe_memory], label='memory')\n",
    "axes[1].plot(sim.trange(), sim.data[net.probe_weight], label='weight', alpha=0.5)\n",
    "axes[1].plot(sim.trange(), sim.data[net.probe_d1][:,1], label='weight+degree', alpha=0.5)\n",
    "axes[0].legend()\n",
    "axes[1].legend()\n",
    "plt.show()"
   ]
  },
  {
   "cell_type": "code",
   "execution_count": null,
   "id": "c2e7202e-22ee-4b84-9091-b24984d549aa",
   "metadata": {},
   "outputs": [],
   "source": []
  }
 ],
 "metadata": {
  "kernelspec": {
   "display_name": "Python 3 (ipykernel)",
   "language": "python",
   "name": "python3"
  },
  "language_info": {
   "codemirror_mode": {
    "name": "ipython",
    "version": 3
   },
   "file_extension": ".py",
   "mimetype": "text/x-python",
   "name": "python",
   "nbconvert_exporter": "python",
   "pygments_lexer": "ipython3",
   "version": "3.11.10"
  }
 },
 "nbformat": 4,
 "nbformat_minor": 5
}
