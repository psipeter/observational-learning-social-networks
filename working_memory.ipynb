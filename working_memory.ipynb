{
 "cells": [
  {
   "cell_type": "markdown",
   "id": "281a3d2f-6b45-4974-a5e9-5b8e974d3371",
   "metadata": {},
   "source": [
    "## Observational social learning task with a basic working-memory-based network"
   ]
  },
  {
   "cell_type": "code",
   "execution_count": 1,
   "id": "dec14073-b492-4b54-98bb-28d9e8a51719",
   "metadata": {},
   "outputs": [],
   "source": [
    "import numpy as np\n",
    "import matplotlib.pyplot as plt\n",
    "import seaborn as sns\n",
    "import nengo\n",
    "import pandas as pd\n",
    "from WM import *"
   ]
  },
  {
   "cell_type": "markdown",
   "id": "61672722-c4ef-444d-8e1b-7ae43a956601",
   "metadata": {},
   "source": [
    "### Dynamics"
   ]
  },
  {
   "cell_type": "code",
   "execution_count": 2,
   "id": "ef08599d-e8eb-4035-a701-305f060f24a7",
   "metadata": {},
   "outputs": [],
   "source": [
    "# env = Environment(sid=1, trial=2, time_sample=2)\n",
    "# print(env.empirical)\n",
    "# fig, ax = plt.subplots(1,1)\n",
    "# ax.plot(np.arange(0, env.T+env.dt, env.dt), env.colors)\n",
    "# ax.plot(np.arange(0, env.T+env.dt, env.dt), env.decays)\n",
    "# ax.plot(np.arange(0, env.T+env.dt, env.dt), env.degrees)\n",
    "# # ax.plot(np.arange(0, env.T+env.dt, env.dt), env.n_samples)\n",
    "# ax.set(xticks = np.arange(0, env.T+env.dt, env.time_sample))\n",
    "# plt.tight_layout()\n",
    "# plt.show()"
   ]
  },
  {
   "cell_type": "code",
   "execution_count": 3,
   "id": "a1a209bb-b680-48cd-a809-eb5011d01621",
   "metadata": {},
   "outputs": [
    {
     "data": {
      "application/vdom.v1+json": {
       "attributes": {},
       "tagName": "div"
      },
      "text/html": [
       "\n",
       "                <script>\n",
       "                    if (Jupyter.version.split(\".\")[0] < 5) {\n",
       "                        var pb = document.getElementById(\"641c0b92-417d-43eb-9e55-85f96eb740c6\");\n",
       "                        var text = document.createTextNode(\n",
       "                            \"HTML progress bar requires Jupyter Notebook >= \" +\n",
       "                            \"5.0 or Jupyter Lab. Alternatively, you can use \" +\n",
       "                            \"TerminalProgressBar().\");\n",
       "                        pb.parentNode.insertBefore(text, pb);\n",
       "                    }\n",
       "                </script>\n",
       "                <div id=\"641c0b92-417d-43eb-9e55-85f96eb740c6\" style=\"\n",
       "                    width: 100%;\n",
       "                    border: 1px solid #cfcfcf;\n",
       "                    border-radius: 4px;\n",
       "                    text-align: center;\n",
       "                    position: relative;\">\n",
       "                  <div class=\"pb-text\" style=\"\n",
       "                      position: absolute;\n",
       "                      width: 100%;\">\n",
       "                    0%\n",
       "                  </div>\n",
       "                  <div class=\"pb-fill\" style=\"\n",
       "                      background-color: #bdd2e6;\n",
       "                      width: 0%;\">\n",
       "                    <style type=\"text/css\" scoped=\"scoped\">\n",
       "                        @keyframes pb-fill-anim {\n",
       "                            0% { background-position: 0 0; }\n",
       "                            100% { background-position: 100px 0; }\n",
       "                        }\n",
       "                    </style>\n",
       "                    &nbsp;\n",
       "                  </div>\n",
       "                </div>"
      ],
      "text/plain": [
       "HtmlProgressBar cannot be displayed. Please use the TerminalProgressBar. It can be enabled with `nengo.rc['progress']['progress_bar'] = 'nengo.utils.progress.TerminalProgressBar'`."
      ]
     },
     "metadata": {},
     "output_type": "display_data"
    },
    {
     "data": {
      "application/vdom.v1+json": {
       "attributes": {
        "id": "9e0a724f-22d8-4e53-88e5-2991d373cb1a",
        "style": {
         "border": "1px solid #cfcfcf",
         "borderRadius": "4px",
         "boxSizing": "border-box",
         "position": "relative",
         "textAlign": "center",
         "width": "100%"
        }
       },
       "children": [
        {
         "attributes": {
          "class": "pb-text",
          "style": {
           "position": "absolute",
           "width": "100%"
          }
         },
         "children": [
          "Build finished in 0:00:12."
         ],
         "tagName": "div"
        },
        {
         "attributes": {
          "class": "pb-fill",
          "style": {
           "animation": "none",
           "backgroundColor": "#bdd2e6",
           "backgroundImage": "none",
           "backgroundSize": "100px 100%",
           "width": "100%"
          }
         },
         "children": [
          {
           "attributes": {
            "scoped": "scoped",
            "type": "text/css"
           },
           "children": [
            "\n                        @keyframes pb-fill-anim {\n                            0% { background-position: 0 0; }\n                            100% { background-position: 100px 0; }\n                        }}"
           ],
           "tagName": "style"
          },
          " "
         ],
         "tagName": "div"
        }
       ],
       "tagName": "div"
      },
      "text/html": [
       "<script>\n",
       "              (function () {\n",
       "                  var root = document.getElementById('641c0b92-417d-43eb-9e55-85f96eb740c6');\n",
       "                  var text = root.getElementsByClassName('pb-text')[0];\n",
       "                  var fill = root.getElementsByClassName('pb-fill')[0];\n",
       "\n",
       "                  text.innerHTML = 'Build finished in 0:00:12.';\n",
       "                  \n",
       "            fill.style.width = '100%';\n",
       "            fill.style.animation = 'pb-fill-anim 2s linear infinite';\n",
       "            fill.style.backgroundSize = '100px 100%';\n",
       "            fill.style.backgroundImage = 'repeating-linear-gradient(' +\n",
       "                '90deg, #bdd2e6, #edf2f8 40%, #bdd2e6 80%, #bdd2e6)';\n",
       "        \n",
       "                  \n",
       "                fill.style.animation = 'none';\n",
       "                fill.style.backgroundImage = 'none';\n",
       "            \n",
       "              })();\n",
       "        </script>"
      ]
     },
     "metadata": {},
     "output_type": "display_data"
    },
    {
     "data": {
      "application/vdom.v1+json": {
       "attributes": {},
       "tagName": "div"
      },
      "text/html": [
       "\n",
       "                <script>\n",
       "                    if (Jupyter.version.split(\".\")[0] < 5) {\n",
       "                        var pb = document.getElementById(\"d5adcb14-c2e1-401d-ba88-55cbb0e72339\");\n",
       "                        var text = document.createTextNode(\n",
       "                            \"HTML progress bar requires Jupyter Notebook >= \" +\n",
       "                            \"5.0 or Jupyter Lab. Alternatively, you can use \" +\n",
       "                            \"TerminalProgressBar().\");\n",
       "                        pb.parentNode.insertBefore(text, pb);\n",
       "                    }\n",
       "                </script>\n",
       "                <div id=\"d5adcb14-c2e1-401d-ba88-55cbb0e72339\" style=\"\n",
       "                    width: 100%;\n",
       "                    border: 1px solid #cfcfcf;\n",
       "                    border-radius: 4px;\n",
       "                    text-align: center;\n",
       "                    position: relative;\">\n",
       "                  <div class=\"pb-text\" style=\"\n",
       "                      position: absolute;\n",
       "                      width: 100%;\">\n",
       "                    0%\n",
       "                  </div>\n",
       "                  <div class=\"pb-fill\" style=\"\n",
       "                      background-color: #bdd2e6;\n",
       "                      width: 0%;\">\n",
       "                    <style type=\"text/css\" scoped=\"scoped\">\n",
       "                        @keyframes pb-fill-anim {\n",
       "                            0% { background-position: 0 0; }\n",
       "                            100% { background-position: 100px 0; }\n",
       "                        }\n",
       "                    </style>\n",
       "                    &nbsp;\n",
       "                  </div>\n",
       "                </div>"
      ],
      "text/plain": [
       "HtmlProgressBar cannot be displayed. Please use the TerminalProgressBar. It can be enabled with `nengo.rc['progress']['progress_bar'] = 'nengo.utils.progress.TerminalProgressBar'`."
      ]
     },
     "metadata": {},
     "output_type": "display_data"
    },
    {
     "data": {
      "application/vdom.v1+json": {
       "attributes": {
        "id": "5ddaa369-2d0b-4ceb-9e2d-bc46d09f4874",
        "style": {
         "border": "1px solid #cfcfcf",
         "borderRadius": "4px",
         "boxSizing": "border-box",
         "position": "relative",
         "textAlign": "center",
         "width": "100%"
        }
       },
       "children": [
        {
         "attributes": {
          "class": "pb-text",
          "style": {
           "position": "absolute",
           "width": "100%"
          }
         },
         "children": [
          "Simulation finished in 0:00:23."
         ],
         "tagName": "div"
        },
        {
         "attributes": {
          "class": "pb-fill",
          "style": {
           "animation": "none",
           "backgroundColor": "#bdd2e6",
           "backgroundImage": "none",
           "transition": "width 0.1s linear",
           "width": "100%"
          }
         },
         "children": [
          {
           "attributes": {
            "scoped": "scoped",
            "type": "text/css"
           },
           "children": [
            "\n                        @keyframes pb-fill-anim {\n                            0% { background-position: 0 0; }\n                            100% { background-position: 100px 0; }\n                        }}"
           ],
           "tagName": "style"
          },
          " "
         ],
         "tagName": "div"
        }
       ],
       "tagName": "div"
      },
      "text/html": [
       "<script>\n",
       "              (function () {\n",
       "                  var root = document.getElementById('d5adcb14-c2e1-401d-ba88-55cbb0e72339');\n",
       "                  var text = root.getElementsByClassName('pb-text')[0];\n",
       "                  var fill = root.getElementsByClassName('pb-fill')[0];\n",
       "\n",
       "                  text.innerHTML = 'Simulation finished in 0:00:23.';\n",
       "                  \n",
       "            if (100.0 > 0.) {\n",
       "                fill.style.transition = 'width 0.1s linear';\n",
       "            } else {\n",
       "                fill.style.transition = 'none';\n",
       "            }\n",
       "\n",
       "            fill.style.width = '100.0%';\n",
       "            fill.style.animation = 'none';\n",
       "            fill.style.backgroundImage = 'none'\n",
       "        \n",
       "                  \n",
       "                fill.style.animation = 'none';\n",
       "                fill.style.backgroundImage = 'none';\n",
       "            \n",
       "              })();\n",
       "        </script>"
      ]
     },
     "metadata": {},
     "output_type": "display_data"
    },
    {
     "data": {
      "image/png": "[encoded data removed]",
      "text/plain": [
       "<Figure size 800x400 with 2 Axes>"
      ]
     },
     "metadata": {},
     "output_type": "display_data"
    }
   ],
   "source": [
    "env = Environment(sid=1, trial=1)\n",
    "net, sim = simulate_WM(env, z=0.5, k=1.2)\n",
    "\n",
    "times = sim.trange().flatten()\n",
    "input_obs = sim.data[net.probe_input].flatten()\n",
    "obs = sim.data[net.probe_obs].flatten()\n",
    "weight = sim.data[net.probe_weight].flatten()\n",
    "mem = sim.data[net.probe_memory].flatten()\n",
    "decision = sim.data[net.probe_decision][:,0].flatten()\n",
    "def cumulative_average(a):\n",
    "    return np.cumsum(a) / np.arange(1, len(a) + 1)\n",
    "cumavg = cumulative_average(input_obs)\n",
    "\n",
    "fig, axes = plt.subplots(nrows=2, ncols=1, figsize=(8,4), sharex=True)\n",
    "sns.lineplot(x=times, y=obs, ax=axes[0], label='observations')\n",
    "sns.lineplot(x=times, y=weight, ax=axes[1], label='weight')\n",
    "sns.lineplot(x=times, y=mem, ax=axes[1], label='memory')\n",
    "sns.lineplot(x=times, y=decision, ax=axes[1], label='decision')\n",
    "sns.lineplot(x=times, y=cumavg, label='cumulative average')\n",
    "\n",
    "axes[1].axhline(0, color='k', lw=0.1)\n",
    "axes[1].axvline(env.time_sample, color='k', ls='--')\n",
    "axes[1].axvline(env.time_sample+env.n_neighbors*env.time_sample, color='k', ls='--')\n",
    "axes[1].axvline(env.time_sample+2*env.n_neighbors*env.time_sample, color='k', ls='--')\n",
    "axes[1].axvline(env.time_sample+3*env.n_neighbors*env.time_sample, color='k', ls='--')\n",
    "axes[0].set(xlabel='time', ylabel='value')\n",
    "axes[1].set(xlabel='time', ylabel='value', xticks=np.arange(0, env.T+env.dt, env.time_sample))\n",
    "plt.tight_layout()"
   ]
  },
  {
   "cell_type": "code",
   "execution_count": 4,
   "id": "2080f715-1697-453c-a963-ba0ed5edf053",
   "metadata": {},
   "outputs": [
    {
     "name": "stdout",
     "output_type": "stream",
     "text": [
      "sid 1, trial 1\n",
      "sid 1, trial 2\n",
      "sid 1, trial 3\n",
      "sid 1, trial 4\n",
      "sid 1, trial 5\n",
      "sid 1, trial 6\n",
      "sid 1, trial 7\n",
      "sid 1, trial 8\n",
      "sid 1, trial 9\n",
      "sid 1, trial 10\n",
      "sid 1, trial 11\n",
      "sid 1, trial 12\n",
      "sid 1, trial 13\n",
      "sid 1, trial 14\n",
      "sid 1, trial 15\n",
      "sid 1, trial 16\n",
      "sid 1, trial 17\n",
      "sid 1, trial 18\n",
      "sid 1, trial 19\n",
      "sid 1, trial 20\n",
      "sid 1, trial 21\n",
      "sid 1, trial 22\n",
      "sid 1, trial 23\n",
      "sid 1, trial 24\n",
      "sid 1, trial 25\n",
      "sid 1, trial 26\n",
      "sid 1, trial 27\n",
      "sid 1, trial 28\n",
      "sid 1, trial 29\n",
      "sid 1, trial 30\n",
      "sid 1, trial 31\n",
      "sid 1, trial 32\n",
      "sid 1, trial 33\n",
      "sid 1, trial 34\n",
      "sid 1, trial 35\n",
      "sid 1, trial 36\n",
      "sid 1, trial 37\n",
      "sid 1, trial 38\n",
      "sid 1, trial 39\n",
      "sid 1, trial 40\n"
     ]
    }
   ],
   "source": [
    "data = run_WM(sid=1, z=0.5, k=1.2, save=False)"
   ]
  },
  {
   "cell_type": "code",
   "execution_count": null,
   "id": "7276810a-5709-4786-accc-a6fdcc8fb274",
   "metadata": {},
   "outputs": [],
   "source": []
  }
 ],
 "metadata": {
  "kernelspec": {
   "display_name": "Python 3 (ipykernel)",
   "language": "python",
   "name": "python3"
  },
  "language_info": {
   "codemirror_mode": {
    "name": "ipython",
    "version": 3
   },
   "file_extension": ".py",
   "mimetype": "text/x-python",
   "name": "python",
   "nbconvert_exporter": "python",
   "pygments_lexer": "ipython3",
   "version": "3.11.10"
  }
 },
 "nbformat": 4,
 "nbformat_minor": 5
}
