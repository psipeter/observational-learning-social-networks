{
 "cells": [
  {
   "cell_type": "markdown",
   "id": "281a3d2f-6b45-4974-a5e9-5b8e974d3371",
   "metadata": {},
   "source": [
    "## Observational social learning task with a basic working-memory-based network"
   ]
  },
  {
   "cell_type": "code",
   "execution_count": 1,
   "id": "dec14073-b492-4b54-98bb-28d9e8a51719",
   "metadata": {},
   "outputs": [],
   "source": [
    "import numpy as np\n",
    "import matplotlib.pyplot as plt\n",
    "import seaborn as sns\n",
    "import nengo"
   ]
  },
  {
   "cell_type": "markdown",
   "id": "54905343-25b4-4b8d-9e65-8ca1d5c6ae4e",
   "metadata": {},
   "source": [
    "### Task is defined by the Environment node"
   ]
  },
  {
   "cell_type": "code",
   "execution_count": 7,
   "id": "d3b79438-32c7-484a-9410-0576eb4216f2",
   "metadata": {},
   "outputs": [],
   "source": [
    "class Environment():\n",
    "    def __init__(self, prob_A, time_sample=2, dt=0.001, seed_env=5):\n",
    "        self.rng = np.random.RandomState(seed=seed_env)\n",
    "        self.prob_A = prob_A\n",
    "        self.prob_B = 1 - prob_A\n",
    "        self.time_sample = time_sample\n",
    "        self.dt = dt\n",
    "        self.obs = 0\n",
    "        self.weight = 0\n",
    "        self.inhibit = 0\n",
    "    def sample(self, t):\n",
    "        if t % self.time_sample < self.dt:\n",
    "            self.obs = 1 if self.rng.uniform(0,1) < self.prob_A else -1\n",
    "            self.n_sample = int(t / self.time_sample)\n",
    "            # self.weight = 1 - (self.n_sample)/6\n",
    "            self.weight = 1 / (self.n_sample + 1)\n",
    "        if t % self.time_sample > self.time_sample/2:\n",
    "            self.inhibit1 = 0\n",
    "            self.inhibit2 = 1\n",
    "        else:\n",
    "            self.inhibit1 = 1\n",
    "            self.inhibit2 = 0\n",
    "        return [self.obs, self.weight, self.inhibit1, self.inhibit2]"
   ]
  },
  {
   "cell_type": "markdown",
   "id": "64db20d8-d9f2-4a4a-93d6-1acc2cebcfd7",
   "metadata": {},
   "source": [
    "### Define the neural network"
   ]
  },
  {
   "cell_type": "code",
   "execution_count": 3,
   "id": "df5000d1-3da0-4774-82f2-b65df73b4d57",
   "metadata": {},
   "outputs": [],
   "source": [
    "def build_network(env, n_neurons=500, seed_net=0, syn_feedback=0.1):\n",
    "    net = nengo.Network(seed=seed_net)\n",
    "    func_obs = lambda t: env.sample(t)[0]\n",
    "    func_weight = lambda t: env.sample(t)[1]\n",
    "    func_inh1 = lambda t: env.sample(t)[2]\n",
    "    func_inh2 = lambda t: env.sample(t)[3]\n",
    "    func_load = lambda x: (x[0] - x[1]) * x[2]\n",
    "    func_diff = lambda x: (x[0] - x[1])\n",
    "    # diff = x_new - x_old = alpha*x_new + (1-alpha)*x_old - x_old = alpha*x_new - alpha*x_old = alpha*(x_new-x_old)\n",
    "\n",
    "    with net:\n",
    "        # external inputs\n",
    "        net.input_obs = nengo.Node(func_obs)\n",
    "        net.input_weight = nengo.Node(func_weight)\n",
    "        net.inhibit1 = nengo.Node(func_inh1)\n",
    "        net.inhibit2 = nengo.Node(func_inh2)\n",
    "        # ensembles\n",
    "        net.obs = nengo.Ensemble(n_neurons, 1)\n",
    "        net.weight = nengo.Ensemble(n_neurons, 1)\n",
    "        net.combined = nengo.Ensemble(3*n_neurons, 3, radius=3)\n",
    "        net.memory = nengo.Ensemble(n_neurons, 1)\n",
    "        net.temp = nengo.Ensemble(n_neurons, 2)\n",
    "        net.old = nengo.Ensemble(n_neurons, 1)\n",
    "        # connections\n",
    "        nengo.Connection(net.input_obs, net.obs)\n",
    "        nengo.Connection(net.input_weight, net.weight)\n",
    "        nengo.Connection(net.obs, net.combined[0])\n",
    "        nengo.Connection(net.old, net.combined[1])\n",
    "        nengo.Connection(net.weight, net.combined[2])\n",
    "        nengo.Connection(net.combined, net.memory, function=func_load, transform=syn_feedback)\n",
    "        nengo.Connection(net.memory, net.memory, synapse=syn_feedback)\n",
    "        nengo.Connection(net.memory, net.temp[0])\n",
    "        nengo.Connection(net.old, net.temp[1])\n",
    "        nengo.Connection(net.temp, net.old, function=func_diff)\n",
    "        nengo.Connection(net.old, net.old, synapse=syn_feedback)\n",
    "        nengo.Connection(net.inhibit1, net.temp.neurons, transform=-1e3*np.ones((net.temp.n_neurons, 1)))\n",
    "        nengo.Connection(net.inhibit2, net.combined.neurons, transform=-1e3*np.ones((net.combined.n_neurons, 1)))\n",
    "        # probes\n",
    "        net.probe_input = nengo.Probe(net.input_obs, synapse=0.01)\n",
    "        net.probe_obs = nengo.Probe(net.obs, synapse=0.01)\n",
    "        net.probe_weight = nengo.Probe(net.weight, synapse=0.01)\n",
    "        net.probe_memory = nengo.Probe(net.memory, synapse=0.01)\n",
    "        net.probe_old = nengo.Probe(net.old, synapse=0.01)\n",
    "    return net"
   ]
  },
  {
   "cell_type": "markdown",
   "id": "dddd2463-c935-435b-b05e-537306aabb2b",
   "metadata": {},
   "source": [
    "### Simulate the network for one observation"
   ]
  },
  {
   "cell_type": "code",
   "execution_count": 4,
   "id": "30206f28-b386-4d11-9204-36342d3ace62",
   "metadata": {},
   "outputs": [],
   "source": [
    "def simulate(time_sim, seed_sim=0):\n",
    "    env = Environment(prob_A=0.8)\n",
    "    net = build_network(env)\n",
    "    sim = nengo.Simulator(net, seed=seed_sim)\n",
    "    with sim:\n",
    "        sim.run(time_sim)\n",
    "    return net, sim"
   ]
  },
  {
   "cell_type": "markdown",
   "id": "61672722-c4ef-444d-8e1b-7ae43a956601",
   "metadata": {},
   "source": [
    "## Experiment 1"
   ]
  },
  {
   "cell_type": "code",
   "execution_count": 8,
   "id": "935e74f3-57cd-4231-b134-d1be8dea3a56",
   "metadata": {},
   "outputs": [
    {
     "data": {
      "application/vdom.v1+json": {
       "attributes": {},
       "tagName": "div"
      },
      "text/html": [
       "\n",
       "                <script>\n",
       "                    if (Jupyter.version.split(\".\")[0] < 5) {\n",
       "                        var pb = document.getElementById(\"062bf2c5-3c17-4c7a-899b-ee18bc69e069\");\n",
       "                        var text = document.createTextNode(\n",
       "                            \"HTML progress bar requires Jupyter Notebook >= \" +\n",
       "                            \"5.0 or Jupyter Lab. Alternatively, you can use \" +\n",
       "                            \"TerminalProgressBar().\");\n",
       "                        pb.parentNode.insertBefore(text, pb);\n",
       "                    }\n",
       "                </script>\n",
       "                <div id=\"062bf2c5-3c17-4c7a-899b-ee18bc69e069\" style=\"\n",
       "                    width: 100%;\n",
       "                    border: 1px solid #cfcfcf;\n",
       "                    border-radius: 4px;\n",
       "                    text-align: center;\n",
       "                    position: relative;\">\n",
       "                  <div class=\"pb-text\" style=\"\n",
       "                      position: absolute;\n",
       "                      width: 100%;\">\n",
       "                    0%\n",
       "                  </div>\n",
       "                  <div class=\"pb-fill\" style=\"\n",
       "                      background-color: #bdd2e6;\n",
       "                      width: 0%;\">\n",
       "                    <style type=\"text/css\" scoped=\"scoped\">\n",
       "                        @keyframes pb-fill-anim {\n",
       "                            0% { background-position: 0 0; }\n",
       "                            100% { background-position: 100px 0; }\n",
       "                        }\n",
       "                    </style>\n",
       "                    &nbsp;\n",
       "                  </div>\n",
       "                </div>"
      ],
      "text/plain": [
       "HtmlProgressBar cannot be displayed. Please use the TerminalProgressBar. It can be enabled with `nengo.rc['progress']['progress_bar'] = 'nengo.utils.progress.TerminalProgressBar'`."
      ]
     },
     "metadata": {},
     "output_type": "display_data"
    },
    {
     "data": {
      "application/vdom.v1+json": {
       "attributes": {
        "id": "e0b800fa-d4c2-4e9f-9767-b7ca7d3477ee",
        "style": {
         "border": "1px solid #cfcfcf",
         "borderRadius": "4px",
         "boxSizing": "border-box",
         "position": "relative",
         "textAlign": "center",
         "width": "100%"
        }
       },
       "children": [
        {
         "attributes": {
          "class": "pb-text",
          "style": {
           "position": "absolute",
           "width": "100%"
          }
         },
         "children": [
          "Build finished in 0:00:02."
         ],
         "tagName": "div"
        },
        {
         "attributes": {
          "class": "pb-fill",
          "style": {
           "animation": "none",
           "backgroundColor": "#bdd2e6",
           "backgroundImage": "none",
           "backgroundSize": "100px 100%",
           "width": "100%"
          }
         },
         "children": [
          {
           "attributes": {
            "scoped": "scoped",
            "type": "text/css"
           },
           "children": [
            "\n                        @keyframes pb-fill-anim {\n                            0% { background-position: 0 0; }\n                            100% { background-position: 100px 0; }\n                        }}"
           ],
           "tagName": "style"
          },
          " "
         ],
         "tagName": "div"
        }
       ],
       "tagName": "div"
      },
      "text/html": [
       "<script>\n",
       "              (function () {\n",
       "                  var root = document.getElementById('062bf2c5-3c17-4c7a-899b-ee18bc69e069');\n",
       "                  var text = root.getElementsByClassName('pb-text')[0];\n",
       "                  var fill = root.getElementsByClassName('pb-fill')[0];\n",
       "\n",
       "                  text.innerHTML = 'Build finished in 0:00:02.';\n",
       "                  \n",
       "            fill.style.width = '100%';\n",
       "            fill.style.animation = 'pb-fill-anim 2s linear infinite';\n",
       "            fill.style.backgroundSize = '100px 100%';\n",
       "            fill.style.backgroundImage = 'repeating-linear-gradient(' +\n",
       "                '90deg, #bdd2e6, #edf2f8 40%, #bdd2e6 80%, #bdd2e6)';\n",
       "        \n",
       "                  \n",
       "                fill.style.animation = 'none';\n",
       "                fill.style.backgroundImage = 'none';\n",
       "            \n",
       "              })();\n",
       "        </script>"
      ]
     },
     "metadata": {},
     "output_type": "display_data"
    },
    {
     "data": {
      "application/vdom.v1+json": {
       "attributes": {},
       "tagName": "div"
      },
      "text/html": [
       "\n",
       "                <script>\n",
       "                    if (Jupyter.version.split(\".\")[0] < 5) {\n",
       "                        var pb = document.getElementById(\"d5961c05-bd04-41f0-8a5b-bc5aba1f6e31\");\n",
       "                        var text = document.createTextNode(\n",
       "                            \"HTML progress bar requires Jupyter Notebook >= \" +\n",
       "                            \"5.0 or Jupyter Lab. Alternatively, you can use \" +\n",
       "                            \"TerminalProgressBar().\");\n",
       "                        pb.parentNode.insertBefore(text, pb);\n",
       "                    }\n",
       "                </script>\n",
       "                <div id=\"d5961c05-bd04-41f0-8a5b-bc5aba1f6e31\" style=\"\n",
       "                    width: 100%;\n",
       "                    border: 1px solid #cfcfcf;\n",
       "                    border-radius: 4px;\n",
       "                    text-align: center;\n",
       "                    position: relative;\">\n",
       "                  <div class=\"pb-text\" style=\"\n",
       "                      position: absolute;\n",
       "                      width: 100%;\">\n",
       "                    0%\n",
       "                  </div>\n",
       "                  <div class=\"pb-fill\" style=\"\n",
       "                      background-color: #bdd2e6;\n",
       "                      width: 0%;\">\n",
       "                    <style type=\"text/css\" scoped=\"scoped\">\n",
       "                        @keyframes pb-fill-anim {\n",
       "                            0% { background-position: 0 0; }\n",
       "                            100% { background-position: 100px 0; }\n",
       "                        }\n",
       "                    </style>\n",
       "                    &nbsp;\n",
       "                  </div>\n",
       "                </div>"
      ],
      "text/plain": [
       "HtmlProgressBar cannot be displayed. Please use the TerminalProgressBar. It can be enabled with `nengo.rc['progress']['progress_bar'] = 'nengo.utils.progress.TerminalProgressBar'`."
      ]
     },
     "metadata": {},
     "output_type": "display_data"
    },
    {
     "data": {
      "application/vdom.v1+json": {
       "attributes": {
        "id": "e615f82f-7241-4c60-af09-cc8704334486",
        "style": {
         "border": "1px solid #cfcfcf",
         "borderRadius": "4px",
         "boxSizing": "border-box",
         "position": "relative",
         "textAlign": "center",
         "width": "100%"
        }
       },
       "children": [
        {
         "attributes": {
          "class": "pb-text",
          "style": {
           "position": "absolute",
           "width": "100%"
          }
         },
         "children": [
          "Simulation finished in 0:00:16."
         ],
         "tagName": "div"
        },
        {
         "attributes": {
          "class": "pb-fill",
          "style": {
           "animation": "none",
           "backgroundColor": "#bdd2e6",
           "backgroundImage": "none",
           "transition": "width 0.1s linear",
           "width": "100%"
          }
         },
         "children": [
          {
           "attributes": {
            "scoped": "scoped",
            "type": "text/css"
           },
           "children": [
            "\n                        @keyframes pb-fill-anim {\n                            0% { background-position: 0 0; }\n                            100% { background-position: 100px 0; }\n                        }}"
           ],
           "tagName": "style"
          },
          " "
         ],
         "tagName": "div"
        }
       ],
       "tagName": "div"
      },
      "text/html": [
       "<script>\n",
       "              (function () {\n",
       "                  var root = document.getElementById('d5961c05-bd04-41f0-8a5b-bc5aba1f6e31');\n",
       "                  var text = root.getElementsByClassName('pb-text')[0];\n",
       "                  var fill = root.getElementsByClassName('pb-fill')[0];\n",
       "\n",
       "                  text.innerHTML = 'Simulation finished in 0:00:16.';\n",
       "                  \n",
       "            if (100.0 > 0.) {\n",
       "                fill.style.transition = 'width 0.1s linear';\n",
       "            } else {\n",
       "                fill.style.transition = 'none';\n",
       "            }\n",
       "\n",
       "            fill.style.width = '100.0%';\n",
       "            fill.style.animation = 'none';\n",
       "            fill.style.backgroundImage = 'none'\n",
       "        \n",
       "                  \n",
       "                fill.style.animation = 'none';\n",
       "                fill.style.backgroundImage = 'none';\n",
       "            \n",
       "              })();\n",
       "        </script>"
      ]
     },
     "metadata": {},
     "output_type": "display_data"
    }
   ],
   "source": [
    "net, sim = simulate(time_sim=12)"
   ]
  },
  {
   "cell_type": "code",
   "execution_count": 10,
   "id": "4049ce35-2cf1-4d84-b686-df719ebde120",
   "metadata": {},
   "outputs": [
    {
     "data": {
      "image/png": "[encoded data removed]",
      "text/plain": [
       "<Figure size 600x300 with 1 Axes>"
      ]
     },
     "metadata": {},
     "output_type": "display_data"
    }
   ],
   "source": [
    "times = sim.trange().flatten()\n",
    "input_obs = sim.data[net.probe_input].flatten()\n",
    "obs = sim.data[net.probe_obs].flatten()\n",
    "weights = sim.data[net.probe_weight].flatten()\n",
    "mem = sim.data[net.probe_memory].flatten()\n",
    "old = sim.data[net.probe_old].flatten()\n",
    "fig, ax = plt.subplots(nrows=1, ncols=1, figsize=(6,3))\n",
    "# sns.lineplot(x=times, y=input_obs, ax=ax, label='true observations', color='k')\n",
    "sns.lineplot(x=times, y=obs, ax=ax, label='observations')\n",
    "sns.lineplot(x=times, y=weights, ax=ax, label='weights')\n",
    "sns.lineplot(x=times, y=mem, ax=ax, label='memory')\n",
    "# sns.lineplot(x=times, y=old, ax=ax, label='old')\n",
    "ax.set(xlabel='time', ylabel='value')\n",
    "plt.tight_layout()"
   ]
  },
  {
   "cell_type": "code",
   "execution_count": null,
   "id": "25526495-6c5a-4c37-b8f7-6868c0ddb79b",
   "metadata": {},
   "outputs": [],
   "source": []
  },
  {
   "cell_type": "code",
   "execution_count": null,
   "id": "772ef222-b1aa-4ac0-ac2f-8dc3a10a5d14",
   "metadata": {},
   "outputs": [],
   "source": []
  }
 ],
 "metadata": {
  "kernelspec": {
   "display_name": "Python 3 (ipykernel)",
   "language": "python",
   "name": "python3"
  },
  "language_info": {
   "codemirror_mode": {
    "name": "ipython",
    "version": 3
   },
   "file_extension": ".py",
   "mimetype": "text/x-python",
   "name": "python",
   "nbconvert_exporter": "python",
   "pygments_lexer": "ipython3",
   "version": "3.11.10"
  }
 },
 "nbformat": 4,
 "nbformat_minor": 5
}
