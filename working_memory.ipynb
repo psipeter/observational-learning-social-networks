{
 "cells": [
  {
   "cell_type": "markdown",
   "id": "281a3d2f-6b45-4974-a5e9-5b8e974d3371",
   "metadata": {},
   "source": [
    "## Observational social learning task with a basic working-memory-based network"
   ]
  },
  {
   "cell_type": "code",
   "execution_count": 1,
   "id": "dec14073-b492-4b54-98bb-28d9e8a51719",
   "metadata": {},
   "outputs": [],
   "source": [
    "import numpy as np\n",
    "import matplotlib.pyplot as plt\n",
    "import seaborn as sns\n",
    "import nengo\n",
    "import pandas as pd"
   ]
  },
  {
   "cell_type": "markdown",
   "id": "54905343-25b4-4b8d-9e65-8ca1d5c6ae4e",
   "metadata": {},
   "source": [
    "### Task is defined by the Environment node"
   ]
  },
  {
   "cell_type": "code",
   "execution_count": 2,
   "id": "d3b79438-32c7-484a-9410-0576eb4216f2",
   "metadata": {},
   "outputs": [],
   "source": [
    "class Environment():\n",
    "    def __init__(self, sid, trial, time_sample=2, dt=0.001, weight_mode='default'):\n",
    "        self.time_sample = time_sample\n",
    "        self.dt = dt\n",
    "        self.sid = sid\n",
    "        self.trial = trial\n",
    "        self.empirical = pd.read_pickle(f\"data/behavior.pkl\").query(\"sid==@sid & trial==@trial\")\n",
    "        self.weight_mode = weight_mode\n",
    "        self.color = 0\n",
    "        self.weight = 0\n",
    "        self.inhibit1 = 0\n",
    "        self.inhibit2 = 0\n",
    "        self.stage = 0\n",
    "        self.n_neighbors = len(self.empirical['who'].unique()) - 1\n",
    "        # create input arrays\n",
    "        self.colors = []\n",
    "        self.weights = []\n",
    "        self.n_samples = []\n",
    "        self.inhibit1s = []\n",
    "        self.inhibit2s = []\n",
    "        tt = int(self.time_sample / self.dt)\n",
    "        tt2 = int(tt/2)\n",
    "        self.T = self.time_sample + 3*self.n_neighbors*self.time_sample - self.dt\n",
    "        for stage in range(4):\n",
    "            if stage==0:\n",
    "                color = self.empirical.query(\"stage==@stage\")['color'].to_numpy()[0]\n",
    "                n_samples = 1\n",
    "                if self.weight_mode=='default':\n",
    "                    weight = 1 / n_samples\n",
    "                self.colors.extend(2*color-1 * np.ones((tt, 1)))\n",
    "                self.weights.extend(weight * np.ones((tt, 1)))\n",
    "                self.n_samples.extend(n_samples * np.ones((tt, 1)))\n",
    "                self.inhibit1s.extend(1 * np.ones((tt2, 1)))\n",
    "                self.inhibit2s.extend(0 * np.ones((tt2, 1)))\n",
    "                self.inhibit1s.extend(0 * np.ones((tt2, 1)))\n",
    "                self.inhibit2s.extend(1 * np.ones((tt2, 1)))\n",
    "            else:\n",
    "                for n in range(self.n_neighbors):\n",
    "                    color = self.empirical.query(\"stage==@stage\")['color'].to_numpy()[n]\n",
    "                    # weight = self.empirical.query(\"stage==@stage\")['RD'].to_numpy()[n]\n",
    "                    # weight = 1\n",
    "                    n_samples = 1 + (stage-1)*self.n_neighbors + (n+1)\n",
    "                    if self.weight_mode=='default':\n",
    "                        weight = 1 / n_samples\n",
    "                    self.colors.extend(2*color-1 * np.ones((tt, 1)))\n",
    "                    self.weights.extend(weight * np.ones((tt, 1)))\n",
    "                    self.n_samples.extend(n_samples * np.ones((tt, 1)))\n",
    "                    self.inhibit1s.extend(1 * np.ones((tt2, 1)))\n",
    "                    self.inhibit2s.extend(0 * np.ones((tt2, 1)))\n",
    "                    self.inhibit1s.extend(0 * np.ones((tt2, 1)))\n",
    "                    self.inhibit2s.extend(1 * np.ones((tt2, 1)))\n",
    "        self.colors = np.array(self.colors).flatten()\n",
    "        self.weights = np.array(self.weights).flatten()\n",
    "        self.n_samples = np.array(self.n_samples).flatten()\n",
    "        self.inhibit1s = np.array(self.inhibit1s).flatten()\n",
    "        self.inhibit2s = np.array(self.inhibit2s).flatten()\n",
    "                    \n",
    "    def sample(self, t):\n",
    "        tidx = int(t/self.dt)\n",
    "        return [self.colors[tidx], self.weights[tidx], self.inhibit1s[tidx], self.inhibit2s[tidx]]"
   ]
  },
  {
   "cell_type": "code",
   "execution_count": 3,
   "id": "932ee55f-5430-460b-9f47-1b34b5fa7699",
   "metadata": {},
   "outputs": [
    {
     "name": "stdout",
     "output_type": "stream",
     "text": [
      "   sid  trial  network  stage  who  color  degree       RD  action\n",
      "0    1      1        9      0    2      1       3  0.00000       1\n",
      "1    1      1        9      1    6      0       3  0.23077       1\n",
      "2    1      1        9      1    5      0       3  0.23077       1\n",
      "3    1      1        9      1    7      1       4  0.30769       1\n",
      "4    1      1        9      2    5      0       3  0.23077       0\n",
      "5    1      1        9      2    7      1       4  0.30769       0\n",
      "6    1      1        9      2    6      0       3  0.23077       0\n",
      "7    1      1        9      3    7      0       4  0.30769       0\n",
      "8    1      1        9      3    6      0       3  0.23077       0\n",
      "9    1      1        9      3    5      0       3  0.23077       0\n"
     ]
    },
    {
     "data": {
      "image/png": "[encoded data removed]",
      "text/plain": [
       "<Figure size 640x480 with 1 Axes>"
      ]
     },
     "metadata": {},
     "output_type": "display_data"
    }
   ],
   "source": [
    "## Check Environment inputs\n",
    "env = Environment(sid=1, trial=1, time_sample=2)\n",
    "print(env.empirical)\n",
    "fig, ax = plt.subplots(1,1)\n",
    "ax.plot(np.arange(0, env.T+env.dt, env.dt), env.colors)\n",
    "ax.plot(np.arange(0, env.T+env.dt, env.dt), env.weights)\n",
    "# ax.plot(np.arange(0, env.T+env.dt, env.dt), env.n_samples)\n",
    "ax.set(xticks = np.arange(0, env.T+env.dt, env.time_sample))\n",
    "plt.tight_layout()\n",
    "plt.show()"
   ]
  },
  {
   "cell_type": "markdown",
   "id": "64db20d8-d9f2-4a4a-93d6-1acc2cebcfd7",
   "metadata": {},
   "source": [
    "### Define the neural network"
   ]
  },
  {
   "cell_type": "code",
   "execution_count": 4,
   "id": "df5000d1-3da0-4774-82f2-b65df73b4d57",
   "metadata": {},
   "outputs": [],
   "source": [
    "def build_network(env, n_neurons=500, seed_net=0, syn_feedback=0.1):\n",
    "    net = nengo.Network(seed=seed_net)\n",
    "    func_obs = lambda t: env.sample(t)[0]\n",
    "    func_weight = lambda t: env.sample(t)[1]\n",
    "    func_inh1 = lambda t: env.sample(t)[2]\n",
    "    func_inh2 = lambda t: env.sample(t)[3]\n",
    "    func_load = lambda x: (x[0] - x[1]) * x[2]\n",
    "    func_diff = lambda x: (x[0] - x[1])\n",
    "    func_choice = lambda x: -1 if x[0] < 0 else 1\n",
    "\n",
    "    with net:\n",
    "        # external inputs\n",
    "        net.input_obs = nengo.Node(func_obs)\n",
    "        net.input_weight = nengo.Node(func_weight)\n",
    "        net.inhibit1 = nengo.Node(func_inh1)\n",
    "        net.inhibit2 = nengo.Node(func_inh2)\n",
    "        # ensembles\n",
    "        net.obs = nengo.Ensemble(n_neurons, 1)\n",
    "        net.weight = nengo.Ensemble(n_neurons, 1)\n",
    "        net.combined = nengo.Ensemble(3*n_neurons, 3, radius=3)\n",
    "        net.memory = nengo.Ensemble(n_neurons, 1)\n",
    "        net.temp = nengo.Ensemble(n_neurons, 2)\n",
    "        net.old = nengo.Ensemble(n_neurons, 1)\n",
    "        net.decision = nengo.Ensemble(n_neurons, 1)\n",
    "        # connections\n",
    "        nengo.Connection(net.input_obs, net.obs)\n",
    "        nengo.Connection(net.input_weight, net.weight)\n",
    "        nengo.Connection(net.obs, net.combined[0])\n",
    "        nengo.Connection(net.old, net.combined[1])\n",
    "        nengo.Connection(net.weight, net.combined[2])\n",
    "        nengo.Connection(net.combined, net.memory, function=func_load, transform=syn_feedback)\n",
    "        nengo.Connection(net.memory, net.memory, synapse=syn_feedback)\n",
    "        nengo.Connection(net.memory, net.temp[0])\n",
    "        nengo.Connection(net.old, net.temp[1])\n",
    "        nengo.Connection(net.temp, net.old, function=func_diff)\n",
    "        nengo.Connection(net.old, net.old, synapse=syn_feedback)\n",
    "        nengo.Connection(net.inhibit1, net.temp.neurons, transform=-1e3*np.ones((net.temp.n_neurons, 1)))\n",
    "        nengo.Connection(net.inhibit2, net.combined.neurons, transform=-1e3*np.ones((net.combined.n_neurons, 1)))\n",
    "        nengo.Connection(net.memory, net.decision, function=func_choice)\n",
    "        # probes\n",
    "        net.probe_input = nengo.Probe(net.input_obs, synapse=0.01)\n",
    "        net.probe_obs = nengo.Probe(net.obs, synapse=0.01)\n",
    "        net.probe_weight = nengo.Probe(net.weight, synapse=0.01)\n",
    "        net.probe_memory = nengo.Probe(net.memory, synapse=0.01)\n",
    "        net.probe_old = nengo.Probe(net.old, synapse=0.01)\n",
    "        net.probe_decision = nengo.Probe(net.decision, synapse=0.01)\n",
    "    return net"
   ]
  },
  {
   "cell_type": "markdown",
   "id": "dddd2463-c935-435b-b05e-537306aabb2b",
   "metadata": {},
   "source": [
    "### Simulate the network for one observation"
   ]
  },
  {
   "cell_type": "code",
   "execution_count": 5,
   "id": "30206f28-b386-4d11-9204-36342d3ace62",
   "metadata": {},
   "outputs": [],
   "source": [
    "def simulate(sid, trial, seed_sim=0):\n",
    "    env = Environment(sid, trial)\n",
    "    net = build_network(env)\n",
    "    sim = nengo.Simulator(net, seed=seed_sim)\n",
    "    with sim:\n",
    "        sim.run(env.T)\n",
    "    return net, sim"
   ]
  },
  {
   "cell_type": "markdown",
   "id": "61672722-c4ef-444d-8e1b-7ae43a956601",
   "metadata": {},
   "source": [
    "## Experiment 1"
   ]
  },
  {
   "cell_type": "code",
   "execution_count": 6,
   "id": "935e74f3-57cd-4231-b134-d1be8dea3a56",
   "metadata": {},
   "outputs": [
    {
     "data": {
      "application/vdom.v1+json": {
       "attributes": {},
       "tagName": "div"
      },
      "text/html": [
       "\n",
       "                <script>\n",
       "                    if (Jupyter.version.split(\".\")[0] < 5) {\n",
       "                        var pb = document.getElementById(\"ac9bc275-eb97-4014-8594-96ecc8450c1a\");\n",
       "                        var text = document.createTextNode(\n",
       "                            \"HTML progress bar requires Jupyter Notebook >= \" +\n",
       "                            \"5.0 or Jupyter Lab. Alternatively, you can use \" +\n",
       "                            \"TerminalProgressBar().\");\n",
       "                        pb.parentNode.insertBefore(text, pb);\n",
       "                    }\n",
       "                </script>\n",
       "                <div id=\"ac9bc275-eb97-4014-8594-96ecc8450c1a\" style=\"\n",
       "                    width: 100%;\n",
       "                    border: 1px solid #cfcfcf;\n",
       "                    border-radius: 4px;\n",
       "                    text-align: center;\n",
       "                    position: relative;\">\n",
       "                  <div class=\"pb-text\" style=\"\n",
       "                      position: absolute;\n",
       "                      width: 100%;\">\n",
       "                    0%\n",
       "                  </div>\n",
       "                  <div class=\"pb-fill\" style=\"\n",
       "                      background-color: #bdd2e6;\n",
       "                      width: 0%;\">\n",
       "                    <style type=\"text/css\" scoped=\"scoped\">\n",
       "                        @keyframes pb-fill-anim {\n",
       "                            0% { background-position: 0 0; }\n",
       "                            100% { background-position: 100px 0; }\n",
       "                        }\n",
       "                    </style>\n",
       "                    &nbsp;\n",
       "                  </div>\n",
       "                </div>"
      ],
      "text/plain": [
       "HtmlProgressBar cannot be displayed. Please use the TerminalProgressBar. It can be enabled with `nengo.rc['progress']['progress_bar'] = 'nengo.utils.progress.TerminalProgressBar'`."
      ]
     },
     "metadata": {},
     "output_type": "display_data"
    },
    {
     "data": {
      "application/vdom.v1+json": {
       "attributes": {
        "id": "0a0e5006-a810-496b-afad-34695f2927d5",
        "style": {
         "border": "1px solid #cfcfcf",
         "borderRadius": "4px",
         "boxSizing": "border-box",
         "position": "relative",
         "textAlign": "center",
         "width": "100%"
        }
       },
       "children": [
        {
         "attributes": {
          "class": "pb-text",
          "style": {
           "position": "absolute",
           "width": "100%"
          }
         },
         "children": [
          "Build finished in 0:00:02."
         ],
         "tagName": "div"
        },
        {
         "attributes": {
          "class": "pb-fill",
          "style": {
           "animation": "none",
           "backgroundColor": "#bdd2e6",
           "backgroundImage": "none",
           "backgroundSize": "100px 100%",
           "width": "100%"
          }
         },
         "children": [
          {
           "attributes": {
            "scoped": "scoped",
            "type": "text/css"
           },
           "children": [
            "\n                        @keyframes pb-fill-anim {\n                            0% { background-position: 0 0; }\n                            100% { background-position: 100px 0; }\n                        }}"
           ],
           "tagName": "style"
          },
          " "
         ],
         "tagName": "div"
        }
       ],
       "tagName": "div"
      },
      "text/html": [
       "<script>\n",
       "              (function () {\n",
       "                  var root = document.getElementById('ac9bc275-eb97-4014-8594-96ecc8450c1a');\n",
       "                  var text = root.getElementsByClassName('pb-text')[0];\n",
       "                  var fill = root.getElementsByClassName('pb-fill')[0];\n",
       "\n",
       "                  text.innerHTML = 'Build finished in 0:00:02.';\n",
       "                  \n",
       "            fill.style.width = '100%';\n",
       "            fill.style.animation = 'pb-fill-anim 2s linear infinite';\n",
       "            fill.style.backgroundSize = '100px 100%';\n",
       "            fill.style.backgroundImage = 'repeating-linear-gradient(' +\n",
       "                '90deg, #bdd2e6, #edf2f8 40%, #bdd2e6 80%, #bdd2e6)';\n",
       "        \n",
       "                  \n",
       "                fill.style.animation = 'none';\n",
       "                fill.style.backgroundImage = 'none';\n",
       "            \n",
       "              })();\n",
       "        </script>"
      ]
     },
     "metadata": {},
     "output_type": "display_data"
    },
    {
     "data": {
      "application/vdom.v1+json": {
       "attributes": {},
       "tagName": "div"
      },
      "text/html": [
       "\n",
       "                <script>\n",
       "                    if (Jupyter.version.split(\".\")[0] < 5) {\n",
       "                        var pb = document.getElementById(\"09a5ae7b-7bf9-432b-9763-7808a98bc5fd\");\n",
       "                        var text = document.createTextNode(\n",
       "                            \"HTML progress bar requires Jupyter Notebook >= \" +\n",
       "                            \"5.0 or Jupyter Lab. Alternatively, you can use \" +\n",
       "                            \"TerminalProgressBar().\");\n",
       "                        pb.parentNode.insertBefore(text, pb);\n",
       "                    }\n",
       "                </script>\n",
       "                <div id=\"09a5ae7b-7bf9-432b-9763-7808a98bc5fd\" style=\"\n",
       "                    width: 100%;\n",
       "                    border: 1px solid #cfcfcf;\n",
       "                    border-radius: 4px;\n",
       "                    text-align: center;\n",
       "                    position: relative;\">\n",
       "                  <div class=\"pb-text\" style=\"\n",
       "                      position: absolute;\n",
       "                      width: 100%;\">\n",
       "                    0%\n",
       "                  </div>\n",
       "                  <div class=\"pb-fill\" style=\"\n",
       "                      background-color: #bdd2e6;\n",
       "                      width: 0%;\">\n",
       "                    <style type=\"text/css\" scoped=\"scoped\">\n",
       "                        @keyframes pb-fill-anim {\n",
       "                            0% { background-position: 0 0; }\n",
       "                            100% { background-position: 100px 0; }\n",
       "                        }\n",
       "                    </style>\n",
       "                    &nbsp;\n",
       "                  </div>\n",
       "                </div>"
      ],
      "text/plain": [
       "HtmlProgressBar cannot be displayed. Please use the TerminalProgressBar. It can be enabled with `nengo.rc['progress']['progress_bar'] = 'nengo.utils.progress.TerminalProgressBar'`."
      ]
     },
     "metadata": {},
     "output_type": "display_data"
    },
    {
     "data": {
      "application/vdom.v1+json": {
       "attributes": {
        "id": "044ecad8-d06b-4974-8ae2-176289347ba7",
        "style": {
         "border": "1px solid #cfcfcf",
         "borderRadius": "4px",
         "boxSizing": "border-box",
         "position": "relative",
         "textAlign": "center",
         "width": "100%"
        }
       },
       "children": [
        {
         "attributes": {
          "class": "pb-text",
          "style": {
           "position": "absolute",
           "width": "100%"
          }
         },
         "children": [
          "Simulation finished in 0:00:16."
         ],
         "tagName": "div"
        },
        {
         "attributes": {
          "class": "pb-fill",
          "style": {
           "animation": "none",
           "backgroundColor": "#bdd2e6",
           "backgroundImage": "none",
           "transition": "width 0.1s linear",
           "width": "100%"
          }
         },
         "children": [
          {
           "attributes": {
            "scoped": "scoped",
            "type": "text/css"
           },
           "children": [
            "\n                        @keyframes pb-fill-anim {\n                            0% { background-position: 0 0; }\n                            100% { background-position: 100px 0; }\n                        }}"
           ],
           "tagName": "style"
          },
          " "
         ],
         "tagName": "div"
        }
       ],
       "tagName": "div"
      },
      "text/html": [
       "<script>\n",
       "              (function () {\n",
       "                  var root = document.getElementById('09a5ae7b-7bf9-432b-9763-7808a98bc5fd');\n",
       "                  var text = root.getElementsByClassName('pb-text')[0];\n",
       "                  var fill = root.getElementsByClassName('pb-fill')[0];\n",
       "\n",
       "                  text.innerHTML = 'Simulation finished in 0:00:16.';\n",
       "                  \n",
       "            if (100.0 > 0.) {\n",
       "                fill.style.transition = 'width 0.1s linear';\n",
       "            } else {\n",
       "                fill.style.transition = 'none';\n",
       "            }\n",
       "\n",
       "            fill.style.width = '100.0%';\n",
       "            fill.style.animation = 'none';\n",
       "            fill.style.backgroundImage = 'none'\n",
       "        \n",
       "                  \n",
       "                fill.style.animation = 'none';\n",
       "                fill.style.backgroundImage = 'none';\n",
       "            \n",
       "              })();\n",
       "        </script>"
      ]
     },
     "metadata": {},
     "output_type": "display_data"
    }
   ],
   "source": [
    "net, sim = simulate(sid=1, trial=2)"
   ]
  },
  {
   "cell_type": "code",
   "execution_count": 7,
   "id": "4049ce35-2cf1-4d84-b686-df719ebde120",
   "metadata": {},
   "outputs": [
    {
     "data": {
      "image/png": "[encoded data removed]",
      "text/plain": [
       "<Figure size 800x400 with 2 Axes>"
      ]
     },
     "metadata": {},
     "output_type": "display_data"
    }
   ],
   "source": [
    "times = sim.trange().flatten()\n",
    "input_obs = sim.data[net.probe_input].flatten()\n",
    "obs = sim.data[net.probe_obs].flatten()\n",
    "weights = sim.data[net.probe_weight].flatten()\n",
    "mem = sim.data[net.probe_memory].flatten()\n",
    "old = sim.data[net.probe_old].flatten()\n",
    "decision = sim.data[net.probe_decision][:,0].flatten()\n",
    "\n",
    "fig, axes = plt.subplots(nrows=2, ncols=1, figsize=(8,4), sharex=True)\n",
    "# sns.lineplot(x=times, y=input_obs, ax=ax, label='true observations', color='k')\n",
    "sns.lineplot(x=times, y=obs, ax=axes[0], label='observations')\n",
    "sns.lineplot(x=times, y=weights, ax=axes[0], label='weights')\n",
    "sns.lineplot(x=times, y=mem, ax=axes[1], label='memory')\n",
    "# sns.lineplot(x=times, y=old, ax=ax, label='old')\n",
    "sns.lineplot(x=times, y=decision, ax=axes[1], label='decision')\n",
    "# sns.lineplot(x=times, y=confidence, ax=axes[1], label='confidence')\n",
    "axes[0].set(xlabel='time', ylabel='value')\n",
    "axes[1].set(xlabel='time', ylabel='value', xticks=np.arange(0, env.T+env.dt, env.time_sample))\n",
    "plt.tight_layout()"
   ]
  },
  {
   "cell_type": "code",
   "execution_count": null,
   "id": "25526495-6c5a-4c37-b8f7-6868c0ddb79b",
   "metadata": {},
   "outputs": [],
   "source": []
  },
  {
   "cell_type": "code",
   "execution_count": null,
   "id": "772ef222-b1aa-4ac0-ac2f-8dc3a10a5d14",
   "metadata": {},
   "outputs": [],
   "source": []
  }
 ],
 "metadata": {
  "kernelspec": {
   "display_name": "Python 3 (ipykernel)",
   "language": "python",
   "name": "python3"
  },
  "language_info": {
   "codemirror_mode": {
    "name": "ipython",
    "version": 3
   },
   "file_extension": ".py",
   "mimetype": "text/x-python",
   "name": "python",
   "nbconvert_exporter": "python",
   "pygments_lexer": "ipython3",
   "version": "3.11.10"
  }
 },
 "nbformat": 4,
 "nbformat_minor": 5
}
